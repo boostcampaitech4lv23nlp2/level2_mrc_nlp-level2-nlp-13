{
 "cells": [
  {
   "cell_type": "markdown",
   "id": "8982d0df-ae73-4678-8448-ea25cbe6c0a5",
   "metadata": {},
   "source": [
    "### 모듈 import"
   ]
  },
  {
   "cell_type": "code",
   "execution_count": 1,
   "id": "f40d8883-6f6a-45b0-b8e7-f78ae9afa2fb",
   "metadata": {},
   "outputs": [],
   "source": [
    "#!pip install pandas\n",
    "#!pip install numpy\n",
    "#!pip install matplotlib\n",
    "#!pip install seaborn\n",
    "#!pip install scikit-learn\n",
    "#!pip install datasets\n",
    "#!pip install transformers"
   ]
  },
  {
   "cell_type": "code",
   "execution_count": 2,
   "id": "5e2bf0cd-3da8-4fdd-8047-41add023f567",
   "metadata": {},
   "outputs": [
    {
     "name": "stderr",
     "output_type": "stream",
     "text": [
      "/opt/conda/lib/python3.8/site-packages/tqdm/auto.py:22: TqdmWarning: IProgress not found. Please update jupyter and ipywidgets. See https://ipywidgets.readthedocs.io/en/stable/user_install.html\n",
      "  from .autonotebook import tqdm as notebook_tqdm\n"
     ]
    }
   ],
   "source": [
    "import json\n",
    "import random\n",
    "import numpy as np\n",
    "import pandas as pd\n",
    "import matplotlib.pyplot as plt\n",
    "import seaborn as sns\n",
    "from tqdm import tqdm, trange\n",
    "from pprint import pprint\n",
    "\n",
    "from sklearn.feature_extraction.text import TfidfVectorizer\n",
    "\n",
    "import torch\n",
    "from torch.utils.data import DataLoader, TensorDataset\n",
    "import torch.nn.functional as F\n",
    "\n",
    "from datasets import (load_dataset, \n",
    "                      load_metric, \n",
    "                      load_from_disk,\n",
    "                      Dataset,\n",
    "                      DatasetDict\n",
    ")\n",
    "from transformers import (\n",
    "    AutoTokenizer,\n",
    "    BertModel, BertPreTrainedModel,\n",
    "    RobertaModel, RobertaPreTrainedModel,\n",
    "    AdamW, get_linear_schedule_with_warmup,\n",
    "    TrainingArguments,\n",
    ")"
   ]
  },
  {
   "cell_type": "markdown",
   "id": "cad7fa95-10a8-4642-9a85-ee8de358d7b7",
   "metadata": {},
   "source": [
    "### 데이터 load\n",
    "MRC 데이터의 경우, HuggingFace에서 제공하는 datasets 라이브러리를 이용하여 접근이 가능합니다. <br>\n",
    "해당 directory를 dataset_name 으로 저장한 후, 아래의 코드를 활용하여 불러올 수 있습니다."
   ]
  },
  {
   "cell_type": "markdown",
   "id": "d736315e-9091-4cca-8c65-829a3033b690",
   "metadata": {},
   "source": [
    "Retrieval 과정에서 사용하는 문서 집합(corpus)은 ./data/wikipedia_documents.json 으로 저장되어있습니다. 약 5만 7천개의 unique 한 문서로 이루어져 있습니다.<br>\n",
    "\n",
    "데이터셋은 편의성을 위해 Huggingface 에서 제공하는 datasets를 이용하여 pyarrow 형식의 데이터로 저장되어있습니다. 다음은 ./data 구조입니다.<br>\n",
    "\n",
    "\n",
    "./data/ <br>\n",
    "    ./train_dataset/ # 학습에 사용할 데이터셋. train 과 validation 으로 구성<br>\n",
    "    ./test_dataset/  # 제출에 사용될 데이터셋. validation 으로 구성 <br>\n",
    "    ./wikipedia_documents.json # 위키피디아 문서 집합. retrieval을 위해 쓰이는 corpus.<br>"
   ]
  },
  {
   "cell_type": "code",
   "execution_count": 3,
   "id": "50c712bd-6297-4b00-a7ba-a47f5f9fb0f6",
   "metadata": {},
   "outputs": [
    {
     "name": "stdout",
     "output_type": "stream",
     "text": [
      "DatasetDict({\n",
      "    train: Dataset({\n",
      "        features: ['title', 'context', 'question', 'id', 'answers', 'document_id', '__index_level_0__'],\n",
      "        num_rows: 3952\n",
      "    })\n",
      "    validation: Dataset({\n",
      "        features: ['title', 'context', 'question', 'id', 'answers', 'document_id', '__index_level_0__'],\n",
      "        num_rows: 240\n",
      "    })\n",
      "})\n"
     ]
    },
    {
     "name": "stderr",
     "output_type": "stream",
     "text": [
      "/opt/conda/lib/python3.8/site-packages/datasets/dataset_dict.py:1241: FutureWarning: 'fs' was is deprecated in favor of 'storage_options' in version 2.8.0 and will be removed in 3.0.0.\n",
      "You can remove this warning by passing 'storage_options=fs.storage_options' instead.\n",
      "  warnings.warn(\n"
     ]
    }
   ],
   "source": [
    "# train_dataset을 불러오고 싶은 경우\n",
    "from datasets import load_from_disk\n",
    "dataset = load_from_disk(\"./train_dataset/\")\n",
    "print(dataset)"
   ]
  },
  {
   "cell_type": "markdown",
   "id": "ec5ec612-46fc-4712-9b1c-d870aa0c7842",
   "metadata": {},
   "source": [
    "#### JSON 파일 열기"
   ]
  },
  {
   "cell_type": "code",
   "execution_count": 4,
   "id": "ab984dd8-ec7e-46e3-a54b-d3649a926c8b",
   "metadata": {},
   "outputs": [],
   "source": [
    "with open('wikipedia_documents.json', \"r\", encoding=\"utf-8\") as f:\n",
    "    wiki = json.load(f)\n",
    "    \n",
    "wiki_corpus = list(\n",
    "    dict.fromkeys([v[\"text\"] for v in wiki.values()])\n",
    ")"
   ]
  },
  {
   "cell_type": "code",
   "execution_count": 5,
   "id": "fdb5a132-0722-4e32-8597-6022270d4344",
   "metadata": {},
   "outputs": [
    {
     "data": {
      "text/plain": [
       "'이 문서는 나라 목록이며, 전 세계 206개 나라의 각 현황과 주권 승인 정보를 개요 형태로 나열하고 있다.\\n\\n이 목록은 명료화를 위해 두 부분으로 나뉘어 있다.\\n\\n# 첫 번째 부분은 바티칸 시국과 팔레스타인을 포함하여 유엔 등 국제 기구에 가입되어 국제적인 승인을 널리 받았다고 여기는 195개 나라를 나열하고 있다.\\n# 두 번째 부분은 일부 지역의 주권을 사실상 (데 팍토) 행사하고 있지만, 아직 국제적인 승인을 널리 받지 않았다고 여기는 11개 나라를 나열하고 있다.\\n\\n두 목록은 모두 가나다 순이다.\\n\\n일부 국가의 경우 국가로서의 자격에 논쟁의 여부가 있으며, 이 때문에 이러한 목록을 엮는 것은 매우 어렵고 논란이 생길 수 있는 과정이다. 이 목록을 구성하고 있는 국가를 선정하는 기준에 대한 정보는 \"포함 기준\" 단락을 통해 설명하였다. 나라에 대한 일반적인 정보는 \"국가\" 문서에서 설명하고 있다.'"
      ]
     },
     "execution_count": 5,
     "metadata": {},
     "output_type": "execute_result"
    }
   ],
   "source": [
    "wiki_corpus[0]"
   ]
  },
  {
   "cell_type": "markdown",
   "id": "06d2d4d9-b9af-4854-8695-a575f1970143",
   "metadata": {},
   "source": [
    "### 중복 문서 확인\n",
    "\n",
    "중복 문서가 없다는 것을 확인할 수 있다."
   ]
  },
  {
   "cell_type": "code",
   "execution_count": 6,
   "id": "6f2c8ac8-4e92-4bda-b711-06097637cc1b",
   "metadata": {},
   "outputs": [
    {
     "name": "stdout",
     "output_type": "stream",
     "text": [
      "raw 위키 문서의 개수: 56737\n",
      "중복 제거후 위키 문서의 개수: 56737\n"
     ]
    }
   ],
   "source": [
    "print('raw 위키 문서의 개수:', len(list(wiki_corpus)))\n",
    "print('중복 제거후 위키 문서의 개수:', len(list(set(wiki_corpus))))"
   ]
  },
  {
   "cell_type": "markdown",
   "id": "fbf470e8-d36a-4a96-ba12-af72d8a61604",
   "metadata": {},
   "source": [
    "### sentence 문장 길이 확인"
   ]
  },
  {
   "cell_type": "code",
   "execution_count": 7,
   "id": "b7e6e236-fd43-4bca-abf1-1ee584d3d0b2",
   "metadata": {},
   "outputs": [
    {
     "name": "stdout",
     "output_type": "stream",
     "text": [
      "가장 긴 document 길이:  46099\n",
      "가장 짧은 document 길이:  184\n",
      "평균 document 길이:  750.8205932636552\n"
     ]
    }
   ],
   "source": [
    "doc_len = []\n",
    "for doc in wiki_corpus:\n",
    "    doc_len.append(len(doc))\n",
    "\n",
    "print('가장 긴 document 길이: ', max(doc_len))\n",
    "print('가장 짧은 document 길이: ', min(doc_len))\n",
    "print('평균 document 길이: ', sum(doc_len)/len(doc_len) )"
   ]
  },
  {
   "cell_type": "code",
   "execution_count": 8,
   "id": "f7e9de21-eec8-4af7-845b-0d91079d4b49",
   "metadata": {},
   "outputs": [
    {
     "data": {
      "image/png": "[encoded data removed]",
      "text/plain": [
       "<Figure size 640x480 with 1 Axes>"
      ]
     },
     "metadata": {},
     "output_type": "display_data"
    }
   ],
   "source": [
    "plt.hist(doc_len)\n",
    "plt.xlabel(\"length of data\")\n",
    "plt.ylabel(\"number of data\")\n",
    "#plt.xlim(0, 10000)\n",
    "plt.show()"
   ]
  },
  {
   "cell_type": "markdown",
   "id": "5db9e1bb-9055-4cb2-b0d4-6a44284a1e2b",
   "metadata": {},
   "source": [
    "왜 히스토그램이 이상한 것 같지😡"
   ]
  },
  {
   "cell_type": "code",
   "execution_count": 10,
   "id": "660b56a7-f7d9-4d9e-8bb6-db080466f89f",
   "metadata": {},
   "outputs": [
    {
     "name": "stdout",
     "output_type": "stream",
     "text": [
      "document의 길이가 750 이상인 개수 18281\n"
     ]
    }
   ],
   "source": [
    "count = 0 \n",
    "length = 750\n",
    "for num in doc_len:\n",
    "    if num >= length:\n",
    "        count += 1\n",
    "print('document의 길이가',length,'이상인 개수', count)"
   ]
  },
  {
   "cell_type": "markdown",
   "id": "08165012-b1a4-476f-a222-721344850a33",
   "metadata": {},
   "source": [
    "### Tokenize "
   ]
  },
  {
   "cell_type": "code",
   "execution_count": 11,
   "id": "d65144f5-5630-46fb-ab03-186bed30f7da",
   "metadata": {},
   "outputs": [
    {
     "name": "stderr",
     "output_type": "stream",
     "text": [
      "Downloading: 100%|██████████| 289/289 [00:00<00:00, 172kB/s]\n",
      "Downloading: 100%|██████████| 425/425 [00:00<00:00, 363kB/s]\n",
      "Downloading: 100%|██████████| 248k/248k [00:00<00:00, 320kB/s]  \n",
      "Downloading: 100%|██████████| 495k/495k [00:00<00:00, 498kB/s]  \n",
      "Downloading: 100%|██████████| 125/125 [00:00<00:00, 79.6kB/s]\n"
     ]
    }
   ],
   "source": [
    "model = 'klue/bert-base'\n",
    "tokenizer = AutoTokenizer.from_pretrained(model)"
   ]
  },
  {
   "cell_type": "code",
   "execution_count": 13,
   "id": "d3a5b836-3139-4ec0-bc42-1164184b0050",
   "metadata": {},
   "outputs": [
    {
     "name": "stdout",
     "output_type": "stream",
     "text": [
      "가장 긴 tokenized document 길이: 27539\n",
      "가장 짧은 tokenized document 길이: 54\n",
      "평균 tokenized document 길이: 401.88920810053406\n"
     ]
    }
   ],
   "source": [
    "tokenized_doc_len = []\n",
    "for doc in wiki_corpus:\n",
    "    tokenized_doc_len.append(len(tokenizer.tokenize(doc)))"
   ]
  },
  {
   "cell_type": "code",
   "execution_count": null,
   "id": "4275fbb1-87f4-4088-bf8e-5601d9c972f9",
   "metadata": {},
   "outputs": [],
   "source": [
    "print('총 tokenized document 개수:', len(tokenized_doc_len))\n",
    "print('가장 긴 tokenized document 길이:', max(tokenized_doc_len))\n",
    "print('가장 짧은 tokenized document 길이:', min(tokenized_doc_len))\n",
    "print('평균 tokenized document 길이:', sum(tokenized_doc_len)/len(tokenized_doc_len))"
   ]
  },
  {
   "cell_type": "code",
   "execution_count": 14,
   "id": "3854f57e-66f1-4ea9-aad2-50446a089451",
   "metadata": {},
   "outputs": [
    {
     "data": {
      "image/png": "[encoded data removed]",
      "text/plain": [
       "<Figure size 640x480 with 1 Axes>"
      ]
     },
     "metadata": {},
     "output_type": "display_data"
    }
   ],
   "source": [
    "plt.hist(tokenized_doc_len)\n",
    "plt.xlabel(\"length of data\")\n",
    "plt.ylabel(\"number of data\")\n",
    "plt.show()"
   ]
  },
  {
   "cell_type": "code",
   "execution_count": 15,
   "id": "502afab5-c1df-48cb-bab5-63843c1be556",
   "metadata": {},
   "outputs": [
    {
     "name": "stdout",
     "output_type": "stream",
     "text": [
      "token의 길이가 401 이상인 개수 18172\n"
     ]
    }
   ],
   "source": [
    "count = 0 \n",
    "length = 401\n",
    "for num in tokenized_doc_len:\n",
    "    if num >= length:\n",
    "        count += 1\n",
    "print('token의 길이가',length,'이상인 개수', count)"
   ]
  },
  {
   "cell_type": "code",
   "execution_count": null,
   "id": "60fb4e00-3975-4afd-859b-63e78b05bff9",
   "metadata": {},
   "outputs": [],
   "source": []
  }
 ],
 "metadata": {
  "kernelspec": {
   "display_name": "Python 3 (ipykernel)",
   "language": "python",
   "name": "python3"
  },
  "language_info": {
   "codemirror_mode": {
    "name": "ipython",
    "version": 3
   },
   "file_extension": ".py",
   "mimetype": "text/x-python",
   "name": "python",
   "nbconvert_exporter": "python",
   "pygments_lexer": "ipython3",
   "version": "3.8.5"
  }
 },
 "nbformat": 4,
 "nbformat_minor": 5
}
