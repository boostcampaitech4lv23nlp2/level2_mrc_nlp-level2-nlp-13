{
 "cells": [
  {
   "cell_type": "code",
   "execution_count": 795,
   "id": "d02d3bdc-c70a-42ce-8e08-c25ad6572b32",
   "metadata": {},
   "outputs": [],
   "source": [
    "import json\n",
    "import pandas as pd\n"
   ]
  },
  {
   "cell_type": "code",
   "execution_count": 796,
   "id": "50806b4e-0cbe-4d56-a138-5f00dde97f87",
   "metadata": {},
   "outputs": [],
   "source": [
    "with open('predictions_hybrid.json') as f:\n",
    "    hybrid_json = json.loads(f.read())\n",
    "hybrid_df = pd.DataFrame(hybrid_json,  index=['hybrid'])\n",
    "hybrid_df = hybrid_df.transpose()"
   ]
  },
  {
   "cell_type": "code",
   "execution_count": 835,
   "id": "098d7bcb-ebae-4a3d-946f-a06d2d77bbe9",
   "metadata": {},
   "outputs": [],
   "source": [
    "with open('predictions_sparse.json') as f:\n",
    "    sparse_json = json.loads(f.read())\n",
    "sparse_df = pd.DataFrame(sparse_json,  index=['sparse'])\n",
    "sparse_df = sparse_df.transpose()"
   ]
  },
  {
   "cell_type": "code",
   "execution_count": 836,
   "id": "e40e699a-43cf-4dc4-bcca-d74ab8ea234f",
   "metadata": {},
   "outputs": [],
   "source": [
    "with open('predictions_dense.json') as f:\n",
    "    dense_json = json.loads(f.read())\n",
    "dense_df = pd.DataFrame(dense_json,  index=['dense'])\n",
    "dense_df = dense_df.transpose()"
   ]
  },
  {
   "cell_type": "code",
   "execution_count": 837,
   "id": "ad7ebfc2-bdee-4155-b919-68c7756ce877",
   "metadata": {},
   "outputs": [
    {
     "data": {
      "text/html": [
       "<div>\n",
       "<style scoped>\n",
       "    .dataframe tbody tr th:only-of-type {\n",
       "        vertical-align: middle;\n",
       "    }\n",
       "\n",
       "    .dataframe tbody tr th {\n",
       "        vertical-align: top;\n",
       "    }\n",
       "\n",
       "    .dataframe thead th {\n",
       "        text-align: right;\n",
       "    }\n",
       "</style>\n",
       "<table border=\"1\" class=\"dataframe\">\n",
       "  <thead>\n",
       "    <tr style=\"text-align: right;\">\n",
       "      <th></th>\n",
       "      <th>hybrid</th>\n",
       "      <th>sparse</th>\n",
       "    </tr>\n",
       "  </thead>\n",
       "  <tbody>\n",
       "    <tr>\n",
       "      <th>mrc-1-000653</th>\n",
       "      <td>네페로스 행성</td>\n",
       "      <td>네페로스 행성</td>\n",
       "    </tr>\n",
       "    <tr>\n",
       "      <th>mrc-1-001113</th>\n",
       "      <td>냉전 종식</td>\n",
       "      <td>냉전 종식</td>\n",
       "    </tr>\n",
       "    <tr>\n",
       "      <th>mrc-0-002191</th>\n",
       "      <td>빌헬름 미클라스</td>\n",
       "      <td>대통령인 빌헬름 미클라스</td>\n",
       "    </tr>\n",
       "    <tr>\n",
       "      <th>mrc-0-003951</th>\n",
       "      <td>뉴질랜드</td>\n",
       "      <td>뉴질랜드</td>\n",
       "    </tr>\n",
       "    <tr>\n",
       "      <th>mrc-1-001272</th>\n",
       "      <td>프랑스</td>\n",
       "      <td>프랑스</td>\n",
       "    </tr>\n",
       "    <tr>\n",
       "      <th>...</th>\n",
       "      <td>...</td>\n",
       "      <td>...</td>\n",
       "    </tr>\n",
       "    <tr>\n",
       "      <th>mrc-0-002989</th>\n",
       "      <td>슈라우드(=소노자키 후미네)</td>\n",
       "      <td>슈라우드(=소노자키 후미네)</td>\n",
       "    </tr>\n",
       "    <tr>\n",
       "      <th>mrc-0-001804</th>\n",
       "      <td>자유당계 인사</td>\n",
       "      <td>자유당계 인사들</td>\n",
       "    </tr>\n",
       "    <tr>\n",
       "      <th>mrc-0-003411</th>\n",
       "      <td>서스펜디드 게임</td>\n",
       "      <td>서스펜디드 게임</td>\n",
       "    </tr>\n",
       "    <tr>\n",
       "      <th>mrc-0-003436</th>\n",
       "      <td>디에프 항</td>\n",
       "      <td>디에프 항</td>\n",
       "    </tr>\n",
       "    <tr>\n",
       "      <th>mrc-0-002605</th>\n",
       "      <td>콘드률</td>\n",
       "      <td>콘드률</td>\n",
       "    </tr>\n",
       "  </tbody>\n",
       "</table>\n",
       "<p>600 rows × 2 columns</p>\n",
       "</div>"
      ],
      "text/plain": [
       "                       hybrid           sparse\n",
       "mrc-1-000653          네페로스 행성          네페로스 행성\n",
       "mrc-1-001113            냉전 종식            냉전 종식\n",
       "mrc-0-002191         빌헬름 미클라스    대통령인 빌헬름 미클라스\n",
       "mrc-0-003951             뉴질랜드             뉴질랜드\n",
       "mrc-1-001272              프랑스              프랑스\n",
       "...                       ...              ...\n",
       "mrc-0-002989  슈라우드(=소노자키 후미네)  슈라우드(=소노자키 후미네)\n",
       "mrc-0-001804          자유당계 인사         자유당계 인사들\n",
       "mrc-0-003411         서스펜디드 게임         서스펜디드 게임\n",
       "mrc-0-003436            디에프 항            디에프 항\n",
       "mrc-0-002605              콘드률              콘드률\n",
       "\n",
       "[600 rows x 2 columns]"
      ]
     },
     "execution_count": 837,
     "metadata": {},
     "output_type": "execute_result"
    }
   ],
   "source": [
    "compare_df = pd.concat([hybrid_df, sparse_df], axis=1)\n",
    "compare_df"
   ]
  },
  {
   "cell_type": "code",
   "execution_count": 839,
   "id": "6acaf560-2426-467a-aa66-96320f8e9ad4",
   "metadata": {},
   "outputs": [],
   "source": [
    "compare_df['EM'] = (compare_df['hybrid'] == compare_df['sparse'])\n",
    "compare_df['EM'] = compare_df['EM'].map(bool).map(int)"
   ]
  },
  {
   "cell_type": "code",
   "execution_count": 840,
   "id": "f058ce14-fd66-442b-b868-815111939353",
   "metadata": {},
   "outputs": [
    {
     "data": {
      "text/html": [
       "<div>\n",
       "<style scoped>\n",
       "    .dataframe tbody tr th:only-of-type {\n",
       "        vertical-align: middle;\n",
       "    }\n",
       "\n",
       "    .dataframe tbody tr th {\n",
       "        vertical-align: top;\n",
       "    }\n",
       "\n",
       "    .dataframe thead th {\n",
       "        text-align: right;\n",
       "    }\n",
       "</style>\n",
       "<table border=\"1\" class=\"dataframe\">\n",
       "  <thead>\n",
       "    <tr style=\"text-align: right;\">\n",
       "      <th></th>\n",
       "      <th>hybrid</th>\n",
       "      <th>sparse</th>\n",
       "      <th>EM</th>\n",
       "    </tr>\n",
       "  </thead>\n",
       "  <tbody>\n",
       "    <tr>\n",
       "      <th>mrc-1-000653</th>\n",
       "      <td>네페로스 행성</td>\n",
       "      <td>네페로스 행성</td>\n",
       "      <td>1</td>\n",
       "    </tr>\n",
       "    <tr>\n",
       "      <th>mrc-1-001113</th>\n",
       "      <td>냉전 종식</td>\n",
       "      <td>냉전 종식</td>\n",
       "      <td>1</td>\n",
       "    </tr>\n",
       "    <tr>\n",
       "      <th>mrc-0-002191</th>\n",
       "      <td>빌헬름 미클라스</td>\n",
       "      <td>대통령인 빌헬름 미클라스</td>\n",
       "      <td>0</td>\n",
       "    </tr>\n",
       "    <tr>\n",
       "      <th>mrc-0-003951</th>\n",
       "      <td>뉴질랜드</td>\n",
       "      <td>뉴질랜드</td>\n",
       "      <td>1</td>\n",
       "    </tr>\n",
       "    <tr>\n",
       "      <th>mrc-1-001272</th>\n",
       "      <td>프랑스</td>\n",
       "      <td>프랑스</td>\n",
       "      <td>1</td>\n",
       "    </tr>\n",
       "    <tr>\n",
       "      <th>...</th>\n",
       "      <td>...</td>\n",
       "      <td>...</td>\n",
       "      <td>...</td>\n",
       "    </tr>\n",
       "    <tr>\n",
       "      <th>mrc-0-002989</th>\n",
       "      <td>슈라우드(=소노자키 후미네)</td>\n",
       "      <td>슈라우드(=소노자키 후미네)</td>\n",
       "      <td>1</td>\n",
       "    </tr>\n",
       "    <tr>\n",
       "      <th>mrc-0-001804</th>\n",
       "      <td>자유당계 인사</td>\n",
       "      <td>자유당계 인사들</td>\n",
       "      <td>0</td>\n",
       "    </tr>\n",
       "    <tr>\n",
       "      <th>mrc-0-003411</th>\n",
       "      <td>서스펜디드 게임</td>\n",
       "      <td>서스펜디드 게임</td>\n",
       "      <td>1</td>\n",
       "    </tr>\n",
       "    <tr>\n",
       "      <th>mrc-0-003436</th>\n",
       "      <td>디에프 항</td>\n",
       "      <td>디에프 항</td>\n",
       "      <td>1</td>\n",
       "    </tr>\n",
       "    <tr>\n",
       "      <th>mrc-0-002605</th>\n",
       "      <td>콘드률</td>\n",
       "      <td>콘드률</td>\n",
       "      <td>1</td>\n",
       "    </tr>\n",
       "  </tbody>\n",
       "</table>\n",
       "<p>600 rows × 3 columns</p>\n",
       "</div>"
      ],
      "text/plain": [
       "                       hybrid           sparse  EM\n",
       "mrc-1-000653          네페로스 행성          네페로스 행성   1\n",
       "mrc-1-001113            냉전 종식            냉전 종식   1\n",
       "mrc-0-002191         빌헬름 미클라스    대통령인 빌헬름 미클라스   0\n",
       "mrc-0-003951             뉴질랜드             뉴질랜드   1\n",
       "mrc-1-001272              프랑스              프랑스   1\n",
       "...                       ...              ...  ..\n",
       "mrc-0-002989  슈라우드(=소노자키 후미네)  슈라우드(=소노자키 후미네)   1\n",
       "mrc-0-001804          자유당계 인사         자유당계 인사들   0\n",
       "mrc-0-003411         서스펜디드 게임         서스펜디드 게임   1\n",
       "mrc-0-003436            디에프 항            디에프 항   1\n",
       "mrc-0-002605              콘드률              콘드률   1\n",
       "\n",
       "[600 rows x 3 columns]"
      ]
     },
     "execution_count": 840,
     "metadata": {},
     "output_type": "execute_result"
    }
   ],
   "source": [
    "compare_df"
   ]
  },
  {
   "cell_type": "code",
   "execution_count": 841,
   "id": "9d35de57-4179-4e98-b1ad-974c008375cf",
   "metadata": {},
   "outputs": [
    {
     "data": {
      "text/plain": [
       "0.89"
      ]
     },
     "execution_count": 841,
     "metadata": {},
     "output_type": "execute_result"
    }
   ],
   "source": [
    "score = compare_df['EM'].mean()\n",
    "score"
   ]
  },
  {
   "cell_type": "code",
   "execution_count": null,
   "id": "d8224bb4-95a3-44ee-b68f-e33e011f5d55",
   "metadata": {},
   "outputs": [],
   "source": []
  }
 ],
 "metadata": {
  "kernelspec": {
   "display_name": "Python 3 (ipykernel)",
   "language": "python",
   "name": "python3"
  },
  "language_info": {
   "codemirror_mode": {
    "name": "ipython",
    "version": 3
   },
   "file_extension": ".py",
   "mimetype": "text/x-python",
   "name": "python",
   "nbconvert_exporter": "python",
   "pygments_lexer": "ipython3",
   "version": "3.8.5"
  }
 },
 "nbformat": 4,
 "nbformat_minor": 5
}
