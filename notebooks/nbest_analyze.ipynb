{
 "cells": [
  {
   "cell_type": "markdown",
   "id": "ed4bec32-e638-431b-a0c2-53e88f22e047",
   "metadata": {},
   "source": [
    "### 0. 파일 불러오기"
   ]
  },
  {
   "cell_type": "code",
   "execution_count": 1,
   "id": "5e875046-39c9-4839-88da-d8c86da29e56",
   "metadata": {},
   "outputs": [],
   "source": [
    "import json\n",
    "import pandas as pd"
   ]
  },
  {
   "cell_type": "markdown",
   "id": "c9616b29-eccc-4bac-ae0f-d5e9287977b5",
   "metadata": {},
   "source": [
    "#### 0-1. prediction.json"
   ]
  },
  {
   "cell_type": "code",
   "execution_count": 2,
   "id": "52b56ed3-f123-43e9-b638-626a197cdd3a",
   "metadata": {},
   "outputs": [],
   "source": [
    "with open('sparse_prediction.json') as f: #⭐\n",
    "    sparse_ensemble_json = json.loads(f.read())\n",
    "sparse_ensemble_df = pd.DataFrame(sparse_ensemble_json,  index=['sparse'])\n",
    "sparse_ensemble_df = sparse_ensemble_df.transpose()\n",
    "\n",
    "with open('ssm_prediction.json') as f: #⭐\n",
    "    ssm_ensemble_json = json.loads(f.read())\n",
    "ssm_ensemble_df = pd.DataFrame(ssm_ensemble_json,  index=['sparse'])\n",
    "ssm_ensemble_df = ssm_ensemble_df.transpose()\n",
    "\n",
    "with open('hybrid_prediction.json') as f:\n",
    "    hybrid_ensemble_json = json.loads(f.read())\n",
    "hybrid_ensemble_df = pd.DataFrame(hybrid_ensemble_json,  index=['sparse'])\n",
    "hybrid_ensemble_df = hybrid_ensemble_df.transpose()\n",
    "\n",
    "with open('electra_prediction.json') as f:\n",
    "    electra_ensemble_json = json.loads(f.read())\n",
    "electra_ensemble_df = pd.DataFrame(electra_ensemble_json,  index=['sparse'])\n",
    "electra_ensemble_df = electra_ensemble_df.transpose()\n",
    "\n",
    "with open('predictions_dense.json') as f:\n",
    "    dense_ensemble_json = json.loads(f.read())\n",
    "dense_ensemble_df = pd.DataFrame(dense_ensemble_json,  index=['sparse'])\n",
    "dense_ensemble_df = dense_ensemble_df.transpose()"
   ]
  },
  {
   "cell_type": "markdown",
   "id": "fa9d1211-8f40-4087-832c-8c052e6c04c6",
   "metadata": {},
   "source": [
    "#### 0-2. nbest_prediction.json"
   ]
  },
  {
   "cell_type": "code",
   "execution_count": 3,
   "id": "da430204-efef-4677-9d73-6676a5db2c25",
   "metadata": {},
   "outputs": [],
   "source": [
    "arr = ['1', '2','3','4','5','6','7','8','9','10', '11','12','13','14','15','16','17','18','19','20']\n",
    "with open('nbest_predictions_hybrid.json') as f:\n",
    "    hybrid_json = json.loads(f.read())\n",
    "hybrid_df = pd.DataFrame(hybrid_json,  index=arr)\n",
    "hybrid_df = hybrid_df.transpose()"
   ]
  },
  {
   "cell_type": "code",
   "execution_count": 4,
   "id": "68e0d534-6fe7-48e2-95f6-9c25f28fbb9a",
   "metadata": {},
   "outputs": [],
   "source": [
    "with open('nbest_predictions_sparse.json') as f: \n",
    "    sparse_json = json.loads(f.read())\n",
    "sparse_df = pd.DataFrame(sparse_json,  index=arr)\n",
    "sparse_df = sparse_df.transpose()\n",
    "#sparse_df"
   ]
  },
  {
   "cell_type": "code",
   "execution_count": 5,
   "id": "c59edaa6-6099-43d2-ae79-95b705fd006a",
   "metadata": {},
   "outputs": [],
   "source": [
    "with open('nbest_predictions_electra.json') as f:\n",
    "    electra_json = json.loads(f.read())\n",
    "electra_df = pd.DataFrame(electra_json,  index=arr)\n",
    "electra_df = electra_df.transpose()\n",
    "#electra_df"
   ]
  },
  {
   "cell_type": "code",
   "execution_count": 6,
   "id": "5bc98deb-6765-4bee-8119-8a7800761e74",
   "metadata": {},
   "outputs": [],
   "source": [
    "with open('nbest_predictions_ssm.json') as f:\n",
    "    ssm_json = json.loads(f.read())\n",
    "ssm_df = pd.DataFrame(ssm_json,  index=arr)\n",
    "ssm_df = ssm_df.transpose()\n",
    "#electra_df"
   ]
  },
  {
   "cell_type": "code",
   "execution_count": 7,
   "id": "2d842043-f9f7-47c3-be15-9e089a2cab20",
   "metadata": {},
   "outputs": [],
   "source": [
    "with open('nbest_predictions_dense.json') as f:\n",
    "    dense_json = json.loads(f.read())\n",
    "dense_df = pd.DataFrame(dense_json,  index=arr)\n",
    "dense_df = dense_df.transpose()"
   ]
  },
  {
   "cell_type": "markdown",
   "id": "ce102b06-647e-4d0f-8c92-5e645cce753b",
   "metadata": {},
   "source": [
    "### 1. 600개 질문에 대한 max_prob list로 표현"
   ]
  },
  {
   "cell_type": "code",
   "execution_count": 8,
   "id": "77d035dc-4981-4eaf-b632-40744894969d",
   "metadata": {},
   "outputs": [
    {
     "data": {
      "text/plain": [
       "0.36767578125"
      ]
     },
     "execution_count": 8,
     "metadata": {},
     "output_type": "execute_result"
    }
   ],
   "source": [
    "hybrid_df.iloc[0][1]['probability'] # iloc 사용법"
   ]
  },
  {
   "cell_type": "code",
   "execution_count": 9,
   "id": "6974888f-22e3-46a3-a353-b958024ba114",
   "metadata": {},
   "outputs": [],
   "source": [
    "hybrid_max_probs = []\n",
    "for i in range(600):\n",
    "    tmp = 0\n",
    "    for j in range(20):\n",
    "        tmp = max(tmp, hybrid_df.iloc[i][j]['probability'])\n",
    "    hybrid_max_probs.append(tmp)\n",
    "#print(hybrid_max_probs[0])"
   ]
  },
  {
   "cell_type": "code",
   "execution_count": 10,
   "id": "3685e624-8d8a-4ac8-a85f-3891a43f2830",
   "metadata": {},
   "outputs": [],
   "source": [
    "sparse_max_probs = []\n",
    "for i in range(600):\n",
    "    tmp = 0\n",
    "    for j in range(20):\n",
    "        tmp = max(tmp, sparse_df.iloc[i][j]['probability'])\n",
    "    sparse_max_probs.append(tmp)\n",
    "#print(sparse_max_probs[0])"
   ]
  },
  {
   "cell_type": "code",
   "execution_count": 11,
   "id": "867f53b5-7c79-4d15-a5ce-06527aa7b99c",
   "metadata": {},
   "outputs": [],
   "source": [
    "electra_max_probs = []\n",
    "for i in range(600):\n",
    "    tmp = 0\n",
    "    for j in range(20):\n",
    "        tmp = max(tmp, electra_df.iloc[i][j]['probability'])\n",
    "    electra_max_probs.append(tmp)\n",
    "#print(electra_max_probs[0])"
   ]
  },
  {
   "cell_type": "code",
   "execution_count": 12,
   "id": "a2818fd5-4af1-4b0b-af69-c3d0bb703a30",
   "metadata": {},
   "outputs": [],
   "source": [
    "ssm_max_probs = []\n",
    "for i in range(600):\n",
    "    tmp = 0\n",
    "    for j in range(20):\n",
    "        tmp = max(tmp, ssm_df.iloc[i][j]['probability'])\n",
    "    ssm_max_probs.append(tmp)\n",
    "#print(ssm_max_probs[0])"
   ]
  },
  {
   "cell_type": "code",
   "execution_count": 13,
   "id": "8c06731c-7c54-4c92-be5d-0d71712683d6",
   "metadata": {},
   "outputs": [],
   "source": [
    "dense_max_probs = []\n",
    "for i in range(600):\n",
    "    tmp = 0\n",
    "    for j in range(20):\n",
    "        tmp = max(tmp, ssm_df.iloc[i][j]['probability'])\n",
    "    dense_max_probs.append(tmp)"
   ]
  },
  {
   "cell_type": "markdown",
   "id": "9730fd4d-6768-4f12-b0cd-0cf952fab238",
   "metadata": {},
   "source": [
    "### 2. 기준값 찾기 위해 sparse max_prob 분석하기 ‼"
   ]
  },
  {
   "cell_type": "code",
   "execution_count": 14,
   "id": "851b89f2-02d9-4b9e-a7c4-acbdb7f01153",
   "metadata": {},
   "outputs": [
    {
     "name": "stdout",
     "output_type": "stream",
     "text": [
      "Average:  0.8167743937174479\n",
      "Min:  0.12017822265625\n",
      "Max:  1.0\n"
     ]
    }
   ],
   "source": [
    "average = 0\n",
    "for i in range(600):\n",
    "    average += sparse_max_probs[i] \n",
    "print(\"Average: \",average/600)\n",
    "print(\"Min: \", min(sparse_max_probs))\n",
    "print(\"Max: \", max(sparse_max_probs))"
   ]
  },
  {
   "cell_type": "code",
   "execution_count": 15,
   "id": "0814d565-418f-4c95-9682-4de68f23f959",
   "metadata": {},
   "outputs": [
    {
     "name": "stdout",
     "output_type": "stream",
     "text": [
      "54\n"
     ]
    }
   ],
   "source": [
    "cnt = 0\n",
    "for i in range(600):\n",
    "    if sparse_max_probs[i] < 0.5:\n",
    "        cnt +=1\n",
    "print(cnt)"
   ]
  },
  {
   "cell_type": "markdown",
   "id": "53baf8d5-533c-4949-826b-88b9f6e8445e",
   "metadata": {},
   "source": [
    "*sparse*\n",
    "probabiltiy가 0.8보다 작은 답안 228개 (38%) <br>\n",
    "probabiltiy가 0.5보다 작은 답안 54개 (9%)<br>\n",
    "다른 답안으로 교체되어도 괜찮지 않을까 <br>"
   ]
  },
  {
   "cell_type": "markdown",
   "id": "bb77ac0f-84e5-423b-83a2-b7387bb730d9",
   "metadata": {},
   "source": [
    "#### hybrid 분석하기"
   ]
  },
  {
   "cell_type": "code",
   "execution_count": 16,
   "id": "f70badd5-ced9-4d0c-9067-ddfb3eaa1e80",
   "metadata": {},
   "outputs": [
    {
     "name": "stdout",
     "output_type": "stream",
     "text": [
      "Average:  0.818145039876302\n",
      "Min:  0.10064697265625\n",
      "Max:  1.0\n",
      "175\n"
     ]
    }
   ],
   "source": [
    "average = 0\n",
    "for i in range(600):\n",
    "    average += hybrid_max_probs[i] \n",
    "print(\"Average: \",average/600)\n",
    "print(\"Min: \", min(hybrid_max_probs))\n",
    "print(\"Max: \", max(hybrid_max_probs))\n",
    "\n",
    "cnt = 0\n",
    "for i in range(600):\n",
    "    if hybrid_max_probs[i] < 0.7:\n",
    "        cnt +=1\n",
    "print(cnt)"
   ]
  },
  {
   "cell_type": "markdown",
   "id": "0c3e2e99-2f18-40be-903b-23298190c0b2",
   "metadata": {},
   "source": [
    "*hybrid*\n",
    "probabiltiy가 0.8보다 작은 답안 224개 (37%)<br>\n",
    "probabiltiy가 0.7보다 작은 답안 175개 (29%)<br>\n",
    "probabiltiy가 0.5보다 작은 답안 44개<br>\n",
    "다른 답안으로 교체되어도 괜찮지 않을까 "
   ]
  },
  {
   "cell_type": "markdown",
   "id": "e41bc34c-1258-48d7-bd75-d56dd672078d",
   "metadata": {},
   "source": [
    "#### electra 분석하기"
   ]
  },
  {
   "cell_type": "code",
   "execution_count": 17,
   "id": "6048c7da-265b-453e-9417-9ced65a06a24",
   "metadata": {},
   "outputs": [
    {
     "name": "stdout",
     "output_type": "stream",
     "text": [
      "Average:  0.7965768725052476\n",
      "Min:  0.07231848686933517\n",
      "Max:  0.9999853372573853\n",
      "65\n"
     ]
    }
   ],
   "source": [
    "average = 0\n",
    "for i in range(600):\n",
    "    average += electra_max_probs[i] \n",
    "print(\"Average: \",average/600)\n",
    "print(\"Min: \", min(electra_max_probs))\n",
    "print(\"Max: \", max(electra_max_probs))\n",
    "\n",
    "cnt = 0\n",
    "for i in range(600):\n",
    "    if electra_max_probs[i] < 0.5:\n",
    "        cnt +=1\n",
    "print(cnt)"
   ]
  },
  {
   "cell_type": "markdown",
   "id": "ae0c2937-22a3-4d3a-af7c-e7c010a2e065",
   "metadata": {},
   "source": [
    "*electra*\n",
    "probabiltiy가 0.8보다 작은 답안 248개\n",
    "probabiltiy가 0.7보다 작은 답안 199개\n",
    "probabiltiy가 0.5보다 작은 답안 65개\n",
    "다른 답안으로 교체되어도 괜찮지 않을까 "
   ]
  },
  {
   "cell_type": "markdown",
   "id": "d25b0cf0-880d-43d9-994a-d340f37b10d1",
   "metadata": {},
   "source": [
    "#### ssm 분석하기 ‼"
   ]
  },
  {
   "cell_type": "code",
   "execution_count": 18,
   "id": "1fae87db-e8a0-45ef-bf17-7d178587769e",
   "metadata": {},
   "outputs": [
    {
     "name": "stdout",
     "output_type": "stream",
     "text": [
      "Average:  0.8135212089618047\n",
      "Min:  0.15367691218852997\n",
      "Max:  0.999993085861206\n",
      "232\n"
     ]
    }
   ],
   "source": [
    "average = 0\n",
    "for i in range(600):\n",
    "    average += ssm_max_probs[i] \n",
    "print(\"Average: \",average/600)\n",
    "print(\"Min: \", min(ssm_max_probs))\n",
    "print(\"Max: \", max(ssm_max_probs))\n",
    "\n",
    "cnt = 0\n",
    "for i in range(600):\n",
    "    if ssm_max_probs[i] < 0.8:\n",
    "        cnt +=1\n",
    "print(cnt)"
   ]
  },
  {
   "cell_type": "markdown",
   "id": "203e9101-9338-4a62-b872-217d60e99479",
   "metadata": {},
   "source": [
    "#### sparse + hybrid 분석하기 (둘이 답변이 0.89로 가장 유사하므로 확인차)"
   ]
  },
  {
   "cell_type": "code",
   "execution_count": 19,
   "id": "d184a8d2-ccad-4dfd-a5ef-febf09bc95be",
   "metadata": {},
   "outputs": [
    {
     "name": "stdout",
     "output_type": "stream",
     "text": [
      "Average:  0.817459716796875\n",
      "Min:  0.11041259765625\n",
      "Max:  1.0\n"
     ]
    }
   ],
   "source": [
    "sparse_hybrid = []\n",
    "for i in range(600):\n",
    "    middle = (sparse_max_probs[i] + hybrid_max_probs[i])/2\n",
    "    sparse_hybrid.append(middle)\n",
    "#print(sparse_hybrid)\n",
    "\n",
    "average = 0\n",
    "for i in range(600):\n",
    "    average += sparse_hybrid[i] \n",
    "print(\"Average: \",average/600)\n",
    "print(\"Min: \", min(sparse_hybrid))\n",
    "print(\"Max: \", max(sparse_hybrid))"
   ]
  },
  {
   "cell_type": "markdown",
   "id": "2061d576-2261-4409-9f05-207033565739",
   "metadata": {},
   "source": [
    "## 앙상블\n",
    "### 기준 1. sparse, hybrid 평균이 0.35보다 작은 거 ssm으로 교체"
   ]
  },
  {
   "cell_type": "code",
   "execution_count": 20,
   "id": "0e811c64-8064-4f9d-a83a-a01f721ac943",
   "metadata": {},
   "outputs": [
    {
     "name": "stdout",
     "output_type": "stream",
     "text": [
      "11\n"
     ]
    }
   ],
   "source": [
    "cnt = 0\n",
    "idx = []\n",
    "for i in range(600):\n",
    "    if sparse_hybrid[i] < 0.35:\n",
    "        cnt +=1\n",
    "        idx.append(i)\n",
    "print(cnt)"
   ]
  },
  {
   "cell_type": "markdown",
   "id": "dac512a8-448f-4569-a77a-9668dc25b46d",
   "metadata": {},
   "source": [
    "0.7로하니까 네페로스 행성부터 바뀌는 문제 발생"
   ]
  },
  {
   "cell_type": "code",
   "execution_count": 21,
   "id": "ef91cb53-ded8-4fab-ad0f-408c8361e851",
   "metadata": {},
   "outputs": [
    {
     "name": "stdout",
     "output_type": "stream",
     "text": [
      "[25, 28, 51, 112, 134, 170, 327, 330, 473, 530, 595]\n"
     ]
    }
   ],
   "source": [
    "print(idx) # sparse가 낮아서 교체할 애들"
   ]
  },
  {
   "cell_type": "code",
   "execution_count": 22,
   "id": "2d7d8393-2516-4eb6-bfaf-aa65c8c4c811",
   "metadata": {},
   "outputs": [
    {
     "name": "stdout",
     "output_type": "stream",
     "text": [
      "관우 / 진경동(秦慶童)\n",
      "괴팅겐 / 신시내티대학교\n",
      "미국 대통령 우드로 윌슨 / 미국 대통령 우드로 윌슨\n",
      "보안 / 보안\n",
      "외기권의 형성 원리는 무엇인가? / 잠재적 심판의 대상\n",
      "여름철 / 여름철\n",
      "종횡무진 한국경제 / <<종횡무진 한국경제>>\n",
      "1773년 / 1773년\n",
      "빛 / 빛\n",
      "LdB 말뫼 / 스타베크 포트발 크빈네르\n",
      "슈라우드(=소노자키 후미네) / 재단 X\n"
     ]
    }
   ],
   "source": [
    "for i in idx:\n",
    "    print(sparse_ensemble_df.iloc[i]['sparse'], '/', ssm_ensemble_df.iloc[i]['sparse'])"
   ]
  },
  {
   "cell_type": "markdown",
   "id": "61646a6c-9905-4f5c-9968-20be5db88e0e",
   "metadata": {},
   "source": [
    "### 기준 2. sparse보다 0.35점 이상 높은 ssm은 ssm을 따르게"
   ]
  },
  {
   "cell_type": "code",
   "execution_count": 23,
   "id": "27615060-4503-4d3f-8bf1-e91744d621f1",
   "metadata": {},
   "outputs": [
    {
     "name": "stdout",
     "output_type": "stream",
     "text": [
      "쇼군가와 / 아시카가 쇼군가와\n",
      "아라라기 / 아라라기 코요미와 오시노 메메\n",
      "관우 / 진경동(秦慶童)\n",
      "청법대 / 일등바위\n",
      "구내 건널목 / 건늠선\n",
      "1584년 / 1584년(선조 17년)\n",
      "마리아나 제도에서 벗어나자 / 태풍 초이완이 크게 발달\n",
      "호해 / 전한 고제\n",
      "연합국 / 프랑스\n",
      "풍력이나 조력 발전 등 대체 에너지의 개발 / 대체 에너지의 개발\n",
      "페니키아 문자 / 키릴 문자\n",
      "성 베드로 대성전 / 파비아\n",
      "평산 / 르네상스 양식\n",
      "서울시 / 부산시\n",
      "시캉브르 / 잃어버린 세계 건물군\n",
      "4칸 / 곳간채\n",
      "1988년 / 라트비아\n",
      "1649년 / 1722년\n",
      "비올라 / 콘트라베이스\n",
      "공화당원 투표인들 만을 화나게 할 것 / 공화당원 투표인들 만을 화나게\n",
      "슈라우드(=소노자키 후미네) / 재단 X\n"
     ]
    }
   ],
   "source": [
    "ssm_great = []\n",
    "for i in range(600):\n",
    "    if (sparse_max_probs[i] + 0.35 <= ssm_max_probs[i]) and (sparse_ensemble_df.iloc[i]['sparse'] != ssm_ensemble_df.iloc[i]['sparse']):\n",
    "        ssm_great.append(i) # ssm이 높아서 교체할 애들\n",
    "        \n",
    "for i in ssm_great:\n",
    "    print(sparse_ensemble_df.iloc[i]['sparse'], '/', ssm_ensemble_df.iloc[i]['sparse'])"
   ]
  },
  {
   "cell_type": "code",
   "execution_count": 24,
   "id": "4ae6c129-9111-4c19-ae13-07bfc369462d",
   "metadata": {},
   "outputs": [
    {
     "name": "stdout",
     "output_type": "stream",
     "text": [
      "30\n",
      "[134, 7, 262, 390, 14, 530, 25, 28, 29, 540, 31, 291, 170, 555, 51, 52, 573, 193, 327, 585, 330, 332, 595, 85, 88, 473, 357, 230, 112, 379]\n"
     ]
    }
   ],
   "source": [
    "total_idx = list(set(idx + ssm_great))\n",
    "print(len(total_idx))\n",
    "print(total_idx)\n",
    "\n",
    "for i in total_idx:\n",
    "    ssm_ensemble_df.iloc[i]['sparse'] = ssm_ensemble_df.iloc[i]['sparse'] \n",
    "ssm_ensemble_df\n",
    "\n",
    "ssm_ensemble_df.to_json('only_ssm_ensemble.json',force_ascii=False)"
   ]
  },
  {
   "cell_type": "markdown",
   "id": "6a58e495-cc86-4efb-b3bb-9de91873857c",
   "metadata": {},
   "source": [
    "### 기준 3. sparse, hybrid는 같은데 ssm만 다른 답변 교체 (0.3 이상)"
   ]
  },
  {
   "cell_type": "code",
   "execution_count": 25,
   "id": "b6ddfcb6-3d97-4952-a77c-ad607f9744ed",
   "metadata": {},
   "outputs": [
    {
     "name": "stdout",
     "output_type": "stream",
     "text": [
      "쇼군가와 / 아시카가 쇼군가와\n",
      "아라라기 / 아라라기 코요미와 오시노 메메\n",
      "청법대 / 일등바위\n",
      "구내 건널목 / 건늠선\n",
      "1584년 / 1584년(선조 17년)\n",
      "호해 / 전한 고제\n",
      "연합국 / 프랑스\n",
      "3년 / 150여 년\n",
      "풍력이나 조력 발전 등 대체 에너지의 개발 / 대체 에너지의 개발\n",
      "성 베드로 대성전 / 파비아\n",
      "서재필 / 언더우드(Underwood)박사\n",
      "언카스 / 언카스(또는 다운카스, Uncas)\n",
      "서울시 / 부산시\n",
      "우윤근 원내대표 / 박근혜 대통령\n",
      "1988년 / 라트비아\n",
      "비올라 / 콘트라베이스\n",
      "공화당원 투표인들 만을 화나게 할 것 / 공화당원 투표인들 만을 화나게\n",
      "슈라우드(=소노자키 후미네) / 재단 X\n"
     ]
    }
   ],
   "source": [
    "follow_ssm = []\n",
    "for i in range(600):\n",
    "    if ((sparse_max_probs[i] + hybrid_max_probs[i])/2 +0.3 <= ssm_max_probs[i]) and (sparse_ensemble_df.iloc[i]['sparse'] == hybrid_ensemble_df.iloc[i]['sparse'] ) and (sparse_ensemble_df.iloc[i]['sparse'] != ssm_ensemble_df.iloc[i]['sparse']):\n",
    "        follow_ssm.append(i) # ssm이 높아서 교체할 애들\n",
    "        \n",
    "for i in follow_ssm:\n",
    "    print(sparse_ensemble_df.iloc[i]['sparse'], '/', ssm_ensemble_df.iloc[i]['sparse'])"
   ]
  },
  {
   "cell_type": "code",
   "execution_count": 26,
   "id": "3d9258a3-1cc6-4c4b-8e81-f0b06026fd91",
   "metadata": {},
   "outputs": [
    {
     "name": "stdout",
     "output_type": "stream",
     "text": [
      "[25, 28, 51, 112, 134, 170, 327, 330, 473, 530, 595]\n",
      "[7, 14, 25, 29, 31, 52, 85, 88, 193, 230, 262, 291, 332, 357, 379, 390, 540, 555, 573, 585, 595]\n",
      "[7, 14, 29, 31, 52, 88, 193, 216, 230, 291, 298, 338, 357, 424, 540, 573, 585, 595]\n"
     ]
    }
   ],
   "source": [
    "print(idx)\n",
    "print(ssm_great)\n",
    "print(follow_ssm)"
   ]
  },
  {
   "cell_type": "markdown",
   "id": "96dc01c5-222f-4d8a-b179-9f5fa0ac5459",
   "metadata": {},
   "source": [
    "### 기준 4. electra 점수 높은 거 반영"
   ]
  },
  {
   "cell_type": "code",
   "execution_count": 27,
   "id": "02fe450c-b3cc-48ab-aba5-9e82277c664a",
   "metadata": {},
   "outputs": [
    {
     "name": "stdout",
     "output_type": "stream",
     "text": [
      "[30, 178, 295, 395, 422, 526, 538, 555, 583]\n",
      "\n",
      "신사용 양품 가게 / 증권 중개사\n",
      "1475년 / 1923년\n",
      "따뜻하고 건조한 바람 / 구름\n",
      "공민현 / 다카하시 요시노부\n",
      "2013년 / 200만 달러\n",
      "OekakiBBS / 교황 요한 바오로 2세이\n",
      "조지 워싱턴 대통령 / 표트르 1세\n",
      "1649년 / 1670년\n",
      "원 / 백루검\n"
     ]
    }
   ],
   "source": [
    "electra_great = []\n",
    "for i in range(600):\n",
    "    if (sparse_max_probs[i] + 0.4 <= electra_max_probs[i]) and (sparse_ensemble_df.iloc[i]['sparse'] != electra_ensemble_df.iloc[i]['sparse']):\n",
    "        electra_great.append(i) # ssm이 높아서 교체할 애들\n",
    "\n",
    "print(electra_great)\n",
    "print()\n",
    "for i in electra_great:\n",
    "    print(sparse_ensemble_df.iloc[i]['sparse'], '/', electra_ensemble_df.iloc[i]['sparse'])"
   ]
  },
  {
   "cell_type": "markdown",
   "id": "6053cc72-a7a3-426a-a2f6-0576056c8e5e",
   "metadata": {},
   "source": [
    "### 기준 5. Dense 점수 높은 거 반영"
   ]
  },
  {
   "cell_type": "code",
   "execution_count": 28,
   "id": "a4251c48-2c7d-46f3-acab-e16f1f4a0533",
   "metadata": {},
   "outputs": [
    {
     "name": "stdout",
     "output_type": "stream",
     "text": [
      "[14, 25, 41, 52, 85, 153, 193, 262, 332, 351, 390, 433, 464, 480, 552, 555, 595]\n",
      "\n",
      "아라라기 / 샬롯 엘레노어\n",
      "관우 / 화흡\n",
      "잡곡 보리밥 / 은행나무\n",
      "1584년 / 선조\n",
      "마리아나 제도에서 벗어나자 / 2019년 5월\n",
      "영국 / 미\n",
      "연합국 / 유엔군과 대한민국\n",
      "페니키아 문자 / 키릴 문자\n",
      "평산 / 르네상스 양식\n",
      "경시청 수사1과 / 히로시마 도요 카프\n",
      "4칸 / 6칸\n",
      "드주드주아나의 동굴 / 가성 소다 공장\n",
      "앙리 블랑슈 / 나폴레옹\n",
      "베다는 / 골룸바노\n",
      "현무암 화방벽 / 돔\n",
      "1649년 / 1726년\n",
      "슈라우드(=소노자키 후미네) / 클러스터\n"
     ]
    }
   ],
   "source": [
    "d_great = []\n",
    "for i in range(600):\n",
    "    if (sparse_max_probs[i] + 0.4 <= dense_max_probs[i]) and (sparse_ensemble_df.iloc[i]['sparse'] != dense_ensemble_df.iloc[i]['sparse']):\n",
    "        d_great.append(i) # ssm이 높아서 교체할 애들\n",
    "\n",
    "print(d_great)\n",
    "print()\n",
    "for i in d_great:\n",
    "    print(sparse_ensemble_df.iloc[i]['sparse'], '/', dense_ensemble_df.iloc[i]['sparse'])"
   ]
  },
  {
   "cell_type": "markdown",
   "id": "28dd6f55-ec4d-4a65-b9e4-0387a254388d",
   "metadata": {},
   "source": [
    "### 파일로 생성"
   ]
  },
  {
   "cell_type": "code",
   "execution_count": 29,
   "id": "a895e632-de81-4963-a234-305bf2ce3b80",
   "metadata": {},
   "outputs": [
    {
     "name": "stdout",
     "output_type": "stream",
     "text": [
      "34\n",
      "[134, 7, 262, 390, 14, 530, 25, 28, 29, 540, 31, 291, 424, 170, 555, 298, 51, 52, 573, 193, 327, 585, 330, 332, 338, 595, 85, 88, 473, 216, 357, 230, 112, 379]\n"
     ]
    }
   ],
   "source": [
    "total_idx = list(set(idx + ssm_great + follow_ssm))\n",
    "print(len(total_idx))\n",
    "print(total_idx)"
   ]
  },
  {
   "cell_type": "code",
   "execution_count": 30,
   "id": "a4755ca6-5ee9-4711-97fc-47bcf9338927",
   "metadata": {},
   "outputs": [
    {
     "data": {
      "text/html": [
       "<div>\n",
       "<style scoped>\n",
       "    .dataframe tbody tr th:only-of-type {\n",
       "        vertical-align: middle;\n",
       "    }\n",
       "\n",
       "    .dataframe tbody tr th {\n",
       "        vertical-align: top;\n",
       "    }\n",
       "\n",
       "    .dataframe thead th {\n",
       "        text-align: right;\n",
       "    }\n",
       "</style>\n",
       "<table border=\"1\" class=\"dataframe\">\n",
       "  <thead>\n",
       "    <tr style=\"text-align: right;\">\n",
       "      <th></th>\n",
       "      <th>sparse</th>\n",
       "    </tr>\n",
       "  </thead>\n",
       "  <tbody>\n",
       "    <tr>\n",
       "      <th>mrc-1-000653</th>\n",
       "      <td>네페로스 행성</td>\n",
       "    </tr>\n",
       "    <tr>\n",
       "      <th>mrc-1-001113</th>\n",
       "      <td>냉전 종식</td>\n",
       "    </tr>\n",
       "    <tr>\n",
       "      <th>mrc-0-002191</th>\n",
       "      <td>대통령인 빌헬름 미클라스</td>\n",
       "    </tr>\n",
       "    <tr>\n",
       "      <th>mrc-0-003951</th>\n",
       "      <td>뉴질랜드</td>\n",
       "    </tr>\n",
       "    <tr>\n",
       "      <th>mrc-1-001272</th>\n",
       "      <td>프랑스</td>\n",
       "    </tr>\n",
       "    <tr>\n",
       "      <th>...</th>\n",
       "      <td>...</td>\n",
       "    </tr>\n",
       "    <tr>\n",
       "      <th>mrc-0-002989</th>\n",
       "      <td>재단 X</td>\n",
       "    </tr>\n",
       "    <tr>\n",
       "      <th>mrc-0-001804</th>\n",
       "      <td>자유당계 인사들</td>\n",
       "    </tr>\n",
       "    <tr>\n",
       "      <th>mrc-0-003411</th>\n",
       "      <td>서스펜디드 게임</td>\n",
       "    </tr>\n",
       "    <tr>\n",
       "      <th>mrc-0-003436</th>\n",
       "      <td>디에프 항</td>\n",
       "    </tr>\n",
       "    <tr>\n",
       "      <th>mrc-0-002605</th>\n",
       "      <td>콘드률</td>\n",
       "    </tr>\n",
       "  </tbody>\n",
       "</table>\n",
       "<p>600 rows × 1 columns</p>\n",
       "</div>"
      ],
      "text/plain": [
       "                     sparse\n",
       "mrc-1-000653        네페로스 행성\n",
       "mrc-1-001113          냉전 종식\n",
       "mrc-0-002191  대통령인 빌헬름 미클라스\n",
       "mrc-0-003951           뉴질랜드\n",
       "mrc-1-001272            프랑스\n",
       "...                     ...\n",
       "mrc-0-002989           재단 X\n",
       "mrc-0-001804       자유당계 인사들\n",
       "mrc-0-003411       서스펜디드 게임\n",
       "mrc-0-003436          디에프 항\n",
       "mrc-0-002605            콘드률\n",
       "\n",
       "[600 rows x 1 columns]"
      ]
     },
     "execution_count": 30,
     "metadata": {},
     "output_type": "execute_result"
    }
   ],
   "source": [
    "for i in total_idx:\n",
    "    sparse_ensemble_df.iloc[i]['sparse'] = ssm_ensemble_df.iloc[i]['sparse'] \n",
    "sparse_ensemble_df"
   ]
  },
  {
   "cell_type": "code",
   "execution_count": 31,
   "id": "ef4ebb97-94e5-4b91-a94a-74742d3f307b",
   "metadata": {},
   "outputs": [],
   "source": [
    "sparse_ensemble_df.to_json('ensemble.json',force_ascii=False)"
   ]
  },
  {
   "cell_type": "code",
   "execution_count": null,
   "id": "221c94d9-0445-459f-94cb-680b40375b33",
   "metadata": {},
   "outputs": [],
   "source": []
  }
 ],
 "metadata": {
  "kernelspec": {
   "display_name": "Python 3 (ipykernel)",
   "language": "python",
   "name": "python3"
  },
  "language_info": {
   "codemirror_mode": {
    "name": "ipython",
    "version": 3
   },
   "file_extension": ".py",
   "mimetype": "text/x-python",
   "name": "python",
   "nbconvert_exporter": "python",
   "pygments_lexer": "ipython3",
   "version": "3.8.5"
  }
 },
 "nbformat": 4,
 "nbformat_minor": 5
}
