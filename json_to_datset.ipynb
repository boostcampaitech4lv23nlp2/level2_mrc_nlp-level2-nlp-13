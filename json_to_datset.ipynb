{
 "cells": [
  {
   "cell_type": "code",
   "execution_count": 186,
   "id": "f155411f-ebbf-44bc-bd61-8601c7ada386",
   "metadata": {},
   "outputs": [],
   "source": [
    "import pandas as pd\n",
    "import json\n"
   ]
  },
  {
   "cell_type": "code",
   "execution_count": 187,
   "id": "694ea9a4-ca5c-4f81-a46a-7724d5d490c0",
   "metadata": {},
   "outputs": [],
   "source": [
    "with open('../data/KorQuAD_v1.0_train.json', 'r', encoding='utf-8-sig') as f:\n",
    "    wiki = json.load(f)"
   ]
  },
  {
   "cell_type": "code",
   "execution_count": 188,
   "id": "bef6f7af-7a28-4ea2-b4da-64f17c6c254f",
   "metadata": {},
   "outputs": [],
   "source": [
    "nf = pd.DataFrame(columns = ['title', 'context', 'question', 'id', 'answers', 'document_id', '__index_level_0__'])\n",
    "def append_row(df, row):\n",
    "    return pd.concat([\n",
    "                df, \n",
    "                pd.DataFrame([row], columns=row.index)]\n",
    "           ).reset_index(drop=True)"
   ]
  },
  {
   "cell_type": "code",
   "execution_count": 200,
   "id": "4b326f4c-062e-4eb8-b64b-30580e4711bd",
   "metadata": {},
   "outputs": [],
   "source": [
    "super_list = []\n",
    "\n",
    "dict = {}\n",
    "\n",
    "for i in range(len(wiki['data'])):\n",
    "    data = wiki['data'][i]\n",
    "    title = data['title']\n",
    "    dict['title'] = title\n",
    "    for j in range(len(data['paragraphs'])):\n",
    "        paragraph = data['paragraphs'][j]\n",
    "        context = paragraph['context']\n",
    "        dict['context'] = context\n",
    "\n",
    "        qas = paragraph['qas']\n",
    "        for k in range(len(qas)):\n",
    "            sentence = qas[k]  \n",
    "            answers = sentence['answers']\n",
    "            dict['answers'] = answers\n",
    "            \n",
    "            id = sentence['id']\n",
    "            dict['id'] = id\n",
    "            \n",
    "            dict['question'] = sentence['question']\n",
    "            # for l in range(len(answers)):\n",
    "            #     text = answers[l]['text']\n",
    "            #     answer_start = answers[l]['answer_start']\n",
    "            nf = append_row(nf, pd.Series(dict))\n",
    "            #super_list.append(dict)\n",
    "            \n",
    "\n",
    "\n",
    "                "
   ]
  },
  {
   "cell_type": "code",
   "execution_count": 202,
   "id": "e49fffa0-8a7b-44a7-9a88-bcbab364927c",
   "metadata": {},
   "outputs": [],
   "source": [
    "nf.to_json('korquad_processed.json', orient='columns')"
   ]
  },
  {
   "cell_type": "code",
   "execution_count": 203,
   "id": "ad127cb6-1069-47a2-91b2-9eb4d9786317",
   "metadata": {},
   "outputs": [],
   "source": [
    "with open('korquad_processed.json', 'r', encoding='utf-8-sig') as f:\n",
    "    kor = json.load(f)"
   ]
  },
  {
   "cell_type": "code",
   "execution_count": 204,
   "id": "8a0efabe-f8aa-421f-afec-f6dec818cddd",
   "metadata": {},
   "outputs": [],
   "source": [
    "kor_d = pd.DataFrame(kor)"
   ]
  },
  {
   "cell_type": "code",
   "execution_count": 578,
   "id": "3c3d09d9-250d-4b20-b8a5-a713a66c276b",
   "metadata": {},
   "outputs": [
    {
     "data": {
      "text/html": [
       "<div>\n",
       "<style scoped>\n",
       "    .dataframe tbody tr th:only-of-type {\n",
       "        vertical-align: middle;\n",
       "    }\n",
       "\n",
       "    .dataframe tbody tr th {\n",
       "        vertical-align: top;\n",
       "    }\n",
       "\n",
       "    .dataframe thead th {\n",
       "        text-align: right;\n",
       "    }\n",
       "</style>\n",
       "<table border=\"1\" class=\"dataframe\">\n",
       "  <thead>\n",
       "    <tr style=\"text-align: right;\">\n",
       "      <th></th>\n",
       "      <th>title</th>\n",
       "      <th>context</th>\n",
       "      <th>question</th>\n",
       "      <th>id</th>\n",
       "      <th>answers</th>\n",
       "      <th>document_id</th>\n",
       "      <th>__index_level_0__</th>\n",
       "    </tr>\n",
       "  </thead>\n",
       "  <tbody>\n",
       "    <tr>\n",
       "      <th>0</th>\n",
       "      <td>파우스트_서곡</td>\n",
       "      <td>1839년 바그너는 괴테의 파우스트을 처음 읽고 그 내용에 마음이 끌려 이를 소재로...</td>\n",
       "      <td>바그너는 괴테의 파우스트를 읽고 무엇을 쓰고자 했는가?</td>\n",
       "      <td>6566495-0-0</td>\n",
       "      <td>[{'text': '교향곡', 'answer_start': 54}]</td>\n",
       "      <td>None</td>\n",
       "      <td>None</td>\n",
       "    </tr>\n",
       "    <tr>\n",
       "      <th>1</th>\n",
       "      <td>파우스트_서곡</td>\n",
       "      <td>1839년 바그너는 괴테의 파우스트을 처음 읽고 그 내용에 마음이 끌려 이를 소재로...</td>\n",
       "      <td>바그너는 교향곡 작곡을 어디까지 쓴 뒤에 중단했는가?</td>\n",
       "      <td>6566495-0-1</td>\n",
       "      <td>[{'text': '1악장', 'answer_start': 421}]</td>\n",
       "      <td>None</td>\n",
       "      <td>None</td>\n",
       "    </tr>\n",
       "    <tr>\n",
       "      <th>2</th>\n",
       "      <td>파우스트_서곡</td>\n",
       "      <td>1839년 바그너는 괴테의 파우스트을 처음 읽고 그 내용에 마음이 끌려 이를 소재로...</td>\n",
       "      <td>바그너가 파우스트 서곡을 쓸 때 어떤 곡의 영향을 받았는가?</td>\n",
       "      <td>6566495-0-2</td>\n",
       "      <td>[{'text': '베토벤의 교향곡 9번', 'answer_start': 194}]</td>\n",
       "      <td>None</td>\n",
       "      <td>None</td>\n",
       "    </tr>\n",
       "    <tr>\n",
       "      <th>3</th>\n",
       "      <td>파우스트_서곡</td>\n",
       "      <td>1839년 바그너는 괴테의 파우스트을 처음 읽고 그 내용에 마음이 끌려 이를 소재로...</td>\n",
       "      <td>1839년 바그너가 교향곡의 소재로 쓰려고 했던 책은?</td>\n",
       "      <td>6566518-0-0</td>\n",
       "      <td>[{'text': '파우스트', 'answer_start': 15}]</td>\n",
       "      <td>None</td>\n",
       "      <td>None</td>\n",
       "    </tr>\n",
       "    <tr>\n",
       "      <th>4</th>\n",
       "      <td>파우스트_서곡</td>\n",
       "      <td>1839년 바그너는 괴테의 파우스트을 처음 읽고 그 내용에 마음이 끌려 이를 소재로...</td>\n",
       "      <td>파우스트 서곡의 라단조 조성이 영향을 받은 베토벤의 곡은?</td>\n",
       "      <td>6566518-0-1</td>\n",
       "      <td>[{'text': '합창교향곡', 'answer_start': 354}]</td>\n",
       "      <td>None</td>\n",
       "      <td>None</td>\n",
       "    </tr>\n",
       "    <tr>\n",
       "      <th>...</th>\n",
       "      <td>...</td>\n",
       "      <td>...</td>\n",
       "      <td>...</td>\n",
       "      <td>...</td>\n",
       "      <td>...</td>\n",
       "      <td>...</td>\n",
       "      <td>...</td>\n",
       "    </tr>\n",
       "    <tr>\n",
       "      <th>60402</th>\n",
       "      <td>뉴델리_메탈로-베타락타마제</td>\n",
       "      <td>유전자의 이름은 인도의 수도 뉴델리의 이름을 따 붙여졌는데, 이는 2009년 용 (...</td>\n",
       "      <td>뉴델리 메탈로 베타락마제가 처음 감염 된 지역은 어디인가?</td>\n",
       "      <td>6467478-1-1</td>\n",
       "      <td>[{'text': '인도', 'answer_start': 73}]</td>\n",
       "      <td>None</td>\n",
       "      <td>None</td>\n",
       "    </tr>\n",
       "    <tr>\n",
       "      <th>60403</th>\n",
       "      <td>뉴델리_메탈로-베타락타마제</td>\n",
       "      <td>2010년 8월, 저널 The Lancet Infectious Diseases에 최...</td>\n",
       "      <td>균은 유전자를 균에게 전달 할 수있는데 이러한 현상을 나타낸 용어는 무엇인가?</td>\n",
       "      <td>6467478-2-0</td>\n",
       "      <td>[{'text': '유전자 전달', 'answer_start': 253}]</td>\n",
       "      <td>None</td>\n",
       "      <td>None</td>\n",
       "    </tr>\n",
       "    <tr>\n",
       "      <th>60404</th>\n",
       "      <td>뉴델리_메탈로-베타락타마제</td>\n",
       "      <td>2010년 8월, 저널 The Lancet Infectious Diseases에 최...</td>\n",
       "      <td>박테리아가 NDM-1 유전자를 가지고 있을때 발생하는 전파를 분석하기위해 사용된 영...</td>\n",
       "      <td>6467478-2-1</td>\n",
       "      <td>[{'text': '37건', 'answer_start': 129}]</td>\n",
       "      <td>None</td>\n",
       "      <td>None</td>\n",
       "    </tr>\n",
       "    <tr>\n",
       "      <th>60405</th>\n",
       "      <td>뉴델리_메탈로-베타락타마제</td>\n",
       "      <td>2010년 8월, 저널 The Lancet Infectious Diseases에 최...</td>\n",
       "      <td>NDM-1 유전자를 가진 박테리아가 감수성을 보인 폴리믹슨 계열 항생제는?</td>\n",
       "      <td>6490801-2-0</td>\n",
       "      <td>[{'text': '콜리스틴', 'answer_start': 404}]</td>\n",
       "      <td>None</td>\n",
       "      <td>None</td>\n",
       "    </tr>\n",
       "    <tr>\n",
       "      <th>60406</th>\n",
       "      <td>뉴델리_메탈로-베타락타마제</td>\n",
       "      <td>2010년 8월, 저널 The Lancet Infectious Diseases에 최...</td>\n",
       "      <td>2010년 8월, NDM-1 유전자를 가진 박테리아의 발생과 전파를 분석한 다국적 ...</td>\n",
       "      <td>6490801-2-1</td>\n",
       "      <td>[{'text': 'The Lancet Infectious Diseases', 'a...</td>\n",
       "      <td>None</td>\n",
       "      <td>None</td>\n",
       "    </tr>\n",
       "  </tbody>\n",
       "</table>\n",
       "<p>60407 rows × 7 columns</p>\n",
       "</div>"
      ],
      "text/plain": [
       "                title                                            context  \\\n",
       "0             파우스트_서곡  1839년 바그너는 괴테의 파우스트을 처음 읽고 그 내용에 마음이 끌려 이를 소재로...   \n",
       "1             파우스트_서곡  1839년 바그너는 괴테의 파우스트을 처음 읽고 그 내용에 마음이 끌려 이를 소재로...   \n",
       "2             파우스트_서곡  1839년 바그너는 괴테의 파우스트을 처음 읽고 그 내용에 마음이 끌려 이를 소재로...   \n",
       "3             파우스트_서곡  1839년 바그너는 괴테의 파우스트을 처음 읽고 그 내용에 마음이 끌려 이를 소재로...   \n",
       "4             파우스트_서곡  1839년 바그너는 괴테의 파우스트을 처음 읽고 그 내용에 마음이 끌려 이를 소재로...   \n",
       "...               ...                                                ...   \n",
       "60402  뉴델리_메탈로-베타락타마제  유전자의 이름은 인도의 수도 뉴델리의 이름을 따 붙여졌는데, 이는 2009년 용 (...   \n",
       "60403  뉴델리_메탈로-베타락타마제  2010년 8월, 저널 The Lancet Infectious Diseases에 최...   \n",
       "60404  뉴델리_메탈로-베타락타마제  2010년 8월, 저널 The Lancet Infectious Diseases에 최...   \n",
       "60405  뉴델리_메탈로-베타락타마제  2010년 8월, 저널 The Lancet Infectious Diseases에 최...   \n",
       "60406  뉴델리_메탈로-베타락타마제  2010년 8월, 저널 The Lancet Infectious Diseases에 최...   \n",
       "\n",
       "                                                question           id  \\\n",
       "0                         바그너는 괴테의 파우스트를 읽고 무엇을 쓰고자 했는가?  6566495-0-0   \n",
       "1                          바그너는 교향곡 작곡을 어디까지 쓴 뒤에 중단했는가?  6566495-0-1   \n",
       "2                      바그너가 파우스트 서곡을 쓸 때 어떤 곡의 영향을 받았는가?  6566495-0-2   \n",
       "3                         1839년 바그너가 교향곡의 소재로 쓰려고 했던 책은?  6566518-0-0   \n",
       "4                       파우스트 서곡의 라단조 조성이 영향을 받은 베토벤의 곡은?  6566518-0-1   \n",
       "...                                                  ...          ...   \n",
       "60402                   뉴델리 메탈로 베타락마제가 처음 감염 된 지역은 어디인가?  6467478-1-1   \n",
       "60403        균은 유전자를 균에게 전달 할 수있는데 이러한 현상을 나타낸 용어는 무엇인가?  6467478-2-0   \n",
       "60404  박테리아가 NDM-1 유전자를 가지고 있을때 발생하는 전파를 분석하기위해 사용된 영...  6467478-2-1   \n",
       "60405         NDM-1 유전자를 가진 박테리아가 감수성을 보인 폴리믹슨 계열 항생제는?   6490801-2-0   \n",
       "60406  2010년 8월, NDM-1 유전자를 가진 박테리아의 발생과 전파를 분석한 다국적 ...  6490801-2-1   \n",
       "\n",
       "                                                 answers document_id  \\\n",
       "0                  [{'text': '교향곡', 'answer_start': 54}]        None   \n",
       "1                 [{'text': '1악장', 'answer_start': 421}]        None   \n",
       "2         [{'text': '베토벤의 교향곡 9번', 'answer_start': 194}]        None   \n",
       "3                 [{'text': '파우스트', 'answer_start': 15}]        None   \n",
       "4               [{'text': '합창교향곡', 'answer_start': 354}]        None   \n",
       "...                                                  ...         ...   \n",
       "60402               [{'text': '인도', 'answer_start': 73}]        None   \n",
       "60403          [{'text': '유전자 전달', 'answer_start': 253}]        None   \n",
       "60404             [{'text': '37건', 'answer_start': 129}]        None   \n",
       "60405            [{'text': '콜리스틴', 'answer_start': 404}]        None   \n",
       "60406  [{'text': 'The Lancet Infectious Diseases', 'a...        None   \n",
       "\n",
       "      __index_level_0__  \n",
       "0                  None  \n",
       "1                  None  \n",
       "2                  None  \n",
       "3                  None  \n",
       "4                  None  \n",
       "...                 ...  \n",
       "60402              None  \n",
       "60403              None  \n",
       "60404              None  \n",
       "60405              None  \n",
       "60406              None  \n",
       "\n",
       "[60407 rows x 7 columns]"
      ]
     },
     "execution_count": 578,
     "metadata": {},
     "output_type": "execute_result"
    }
   ],
   "source": [
    "kor_d"
   ]
  },
  {
   "cell_type": "code",
   "execution_count": 211,
   "id": "3ad7dff7-6368-4392-a86a-e0c318527245",
   "metadata": {},
   "outputs": [],
   "source": [
    "with open('korquad_processed.json', 'r', encoding='utf-8-sig') as f:\n",
    "    asd = json.load(f)"
   ]
  },
  {
   "cell_type": "code",
   "execution_count": 250,
   "id": "8a6be3ca-6c40-4ad1-9096-6aa9c993f332",
   "metadata": {},
   "outputs": [
    {
     "data": {
      "text/html": [
       "<div>\n",
       "<style scoped>\n",
       "    .dataframe tbody tr th:only-of-type {\n",
       "        vertical-align: middle;\n",
       "    }\n",
       "\n",
       "    .dataframe tbody tr th {\n",
       "        vertical-align: top;\n",
       "    }\n",
       "\n",
       "    .dataframe thead th {\n",
       "        text-align: right;\n",
       "    }\n",
       "</style>\n",
       "<table border=\"1\" class=\"dataframe\">\n",
       "  <thead>\n",
       "    <tr style=\"text-align: right;\">\n",
       "      <th></th>\n",
       "      <th>title</th>\n",
       "      <th>context</th>\n",
       "      <th>question</th>\n",
       "      <th>id</th>\n",
       "      <th>answers</th>\n",
       "      <th>document_id</th>\n",
       "      <th>__index_level_0__</th>\n",
       "    </tr>\n",
       "  </thead>\n",
       "  <tbody>\n",
       "    <tr>\n",
       "      <th>0</th>\n",
       "      <td>파우스트_서곡</td>\n",
       "      <td>1839년 바그너는 괴테의 파우스트을 처음 읽고 그 내용에 마음이 끌려 이를 소재로...</td>\n",
       "      <td>바그너는 괴테의 파우스트를 읽고 무엇을 쓰고자 했는가?</td>\n",
       "      <td>6566495-0-0</td>\n",
       "      <td>[{'text': '교향곡', 'answer_start': 54}]</td>\n",
       "      <td>None</td>\n",
       "      <td>None</td>\n",
       "    </tr>\n",
       "    <tr>\n",
       "      <th>1</th>\n",
       "      <td>파우스트_서곡</td>\n",
       "      <td>1839년 바그너는 괴테의 파우스트을 처음 읽고 그 내용에 마음이 끌려 이를 소재로...</td>\n",
       "      <td>바그너는 교향곡 작곡을 어디까지 쓴 뒤에 중단했는가?</td>\n",
       "      <td>6566495-0-1</td>\n",
       "      <td>[{'text': '1악장', 'answer_start': 421}]</td>\n",
       "      <td>None</td>\n",
       "      <td>None</td>\n",
       "    </tr>\n",
       "    <tr>\n",
       "      <th>2</th>\n",
       "      <td>파우스트_서곡</td>\n",
       "      <td>1839년 바그너는 괴테의 파우스트을 처음 읽고 그 내용에 마음이 끌려 이를 소재로...</td>\n",
       "      <td>바그너가 파우스트 서곡을 쓸 때 어떤 곡의 영향을 받았는가?</td>\n",
       "      <td>6566495-0-2</td>\n",
       "      <td>[{'text': '베토벤의 교향곡 9번', 'answer_start': 194}]</td>\n",
       "      <td>None</td>\n",
       "      <td>None</td>\n",
       "    </tr>\n",
       "    <tr>\n",
       "      <th>3</th>\n",
       "      <td>파우스트_서곡</td>\n",
       "      <td>1839년 바그너는 괴테의 파우스트을 처음 읽고 그 내용에 마음이 끌려 이를 소재로...</td>\n",
       "      <td>1839년 바그너가 교향곡의 소재로 쓰려고 했던 책은?</td>\n",
       "      <td>6566518-0-0</td>\n",
       "      <td>[{'text': '파우스트', 'answer_start': 15}]</td>\n",
       "      <td>None</td>\n",
       "      <td>None</td>\n",
       "    </tr>\n",
       "    <tr>\n",
       "      <th>4</th>\n",
       "      <td>파우스트_서곡</td>\n",
       "      <td>1839년 바그너는 괴테의 파우스트을 처음 읽고 그 내용에 마음이 끌려 이를 소재로...</td>\n",
       "      <td>파우스트 서곡의 라단조 조성이 영향을 받은 베토벤의 곡은?</td>\n",
       "      <td>6566518-0-1</td>\n",
       "      <td>[{'text': '합창교향곡', 'answer_start': 354}]</td>\n",
       "      <td>None</td>\n",
       "      <td>None</td>\n",
       "    </tr>\n",
       "    <tr>\n",
       "      <th>...</th>\n",
       "      <td>...</td>\n",
       "      <td>...</td>\n",
       "      <td>...</td>\n",
       "      <td>...</td>\n",
       "      <td>...</td>\n",
       "      <td>...</td>\n",
       "      <td>...</td>\n",
       "    </tr>\n",
       "    <tr>\n",
       "      <th>60402</th>\n",
       "      <td>뉴델리_메탈로-베타락타마제</td>\n",
       "      <td>유전자의 이름은 인도의 수도 뉴델리의 이름을 따 붙여졌는데, 이는 2009년 용 (...</td>\n",
       "      <td>뉴델리 메탈로 베타락마제가 처음 감염 된 지역은 어디인가?</td>\n",
       "      <td>6467478-1-1</td>\n",
       "      <td>[{'text': '인도', 'answer_start': 73}]</td>\n",
       "      <td>None</td>\n",
       "      <td>None</td>\n",
       "    </tr>\n",
       "    <tr>\n",
       "      <th>60403</th>\n",
       "      <td>뉴델리_메탈로-베타락타마제</td>\n",
       "      <td>2010년 8월, 저널 The Lancet Infectious Diseases에 최...</td>\n",
       "      <td>균은 유전자를 균에게 전달 할 수있는데 이러한 현상을 나타낸 용어는 무엇인가?</td>\n",
       "      <td>6467478-2-0</td>\n",
       "      <td>[{'text': '유전자 전달', 'answer_start': 253}]</td>\n",
       "      <td>None</td>\n",
       "      <td>None</td>\n",
       "    </tr>\n",
       "    <tr>\n",
       "      <th>60404</th>\n",
       "      <td>뉴델리_메탈로-베타락타마제</td>\n",
       "      <td>2010년 8월, 저널 The Lancet Infectious Diseases에 최...</td>\n",
       "      <td>박테리아가 NDM-1 유전자를 가지고 있을때 발생하는 전파를 분석하기위해 사용된 영...</td>\n",
       "      <td>6467478-2-1</td>\n",
       "      <td>[{'text': '37건', 'answer_start': 129}]</td>\n",
       "      <td>None</td>\n",
       "      <td>None</td>\n",
       "    </tr>\n",
       "    <tr>\n",
       "      <th>60405</th>\n",
       "      <td>뉴델리_메탈로-베타락타마제</td>\n",
       "      <td>2010년 8월, 저널 The Lancet Infectious Diseases에 최...</td>\n",
       "      <td>NDM-1 유전자를 가진 박테리아가 감수성을 보인 폴리믹슨 계열 항생제는?</td>\n",
       "      <td>6490801-2-0</td>\n",
       "      <td>[{'text': '콜리스틴', 'answer_start': 404}]</td>\n",
       "      <td>None</td>\n",
       "      <td>None</td>\n",
       "    </tr>\n",
       "    <tr>\n",
       "      <th>60406</th>\n",
       "      <td>뉴델리_메탈로-베타락타마제</td>\n",
       "      <td>2010년 8월, 저널 The Lancet Infectious Diseases에 최...</td>\n",
       "      <td>2010년 8월, NDM-1 유전자를 가진 박테리아의 발생과 전파를 분석한 다국적 ...</td>\n",
       "      <td>6490801-2-1</td>\n",
       "      <td>[{'text': 'The Lancet Infectious Diseases', 'a...</td>\n",
       "      <td>None</td>\n",
       "      <td>None</td>\n",
       "    </tr>\n",
       "  </tbody>\n",
       "</table>\n",
       "<p>60407 rows × 7 columns</p>\n",
       "</div>"
      ],
      "text/plain": [
       "                title                                            context  \\\n",
       "0             파우스트_서곡  1839년 바그너는 괴테의 파우스트을 처음 읽고 그 내용에 마음이 끌려 이를 소재로...   \n",
       "1             파우스트_서곡  1839년 바그너는 괴테의 파우스트을 처음 읽고 그 내용에 마음이 끌려 이를 소재로...   \n",
       "2             파우스트_서곡  1839년 바그너는 괴테의 파우스트을 처음 읽고 그 내용에 마음이 끌려 이를 소재로...   \n",
       "3             파우스트_서곡  1839년 바그너는 괴테의 파우스트을 처음 읽고 그 내용에 마음이 끌려 이를 소재로...   \n",
       "4             파우스트_서곡  1839년 바그너는 괴테의 파우스트을 처음 읽고 그 내용에 마음이 끌려 이를 소재로...   \n",
       "...               ...                                                ...   \n",
       "60402  뉴델리_메탈로-베타락타마제  유전자의 이름은 인도의 수도 뉴델리의 이름을 따 붙여졌는데, 이는 2009년 용 (...   \n",
       "60403  뉴델리_메탈로-베타락타마제  2010년 8월, 저널 The Lancet Infectious Diseases에 최...   \n",
       "60404  뉴델리_메탈로-베타락타마제  2010년 8월, 저널 The Lancet Infectious Diseases에 최...   \n",
       "60405  뉴델리_메탈로-베타락타마제  2010년 8월, 저널 The Lancet Infectious Diseases에 최...   \n",
       "60406  뉴델리_메탈로-베타락타마제  2010년 8월, 저널 The Lancet Infectious Diseases에 최...   \n",
       "\n",
       "                                                question           id  \\\n",
       "0                         바그너는 괴테의 파우스트를 읽고 무엇을 쓰고자 했는가?  6566495-0-0   \n",
       "1                          바그너는 교향곡 작곡을 어디까지 쓴 뒤에 중단했는가?  6566495-0-1   \n",
       "2                      바그너가 파우스트 서곡을 쓸 때 어떤 곡의 영향을 받았는가?  6566495-0-2   \n",
       "3                         1839년 바그너가 교향곡의 소재로 쓰려고 했던 책은?  6566518-0-0   \n",
       "4                       파우스트 서곡의 라단조 조성이 영향을 받은 베토벤의 곡은?  6566518-0-1   \n",
       "...                                                  ...          ...   \n",
       "60402                   뉴델리 메탈로 베타락마제가 처음 감염 된 지역은 어디인가?  6467478-1-1   \n",
       "60403        균은 유전자를 균에게 전달 할 수있는데 이러한 현상을 나타낸 용어는 무엇인가?  6467478-2-0   \n",
       "60404  박테리아가 NDM-1 유전자를 가지고 있을때 발생하는 전파를 분석하기위해 사용된 영...  6467478-2-1   \n",
       "60405         NDM-1 유전자를 가진 박테리아가 감수성을 보인 폴리믹슨 계열 항생제는?   6490801-2-0   \n",
       "60406  2010년 8월, NDM-1 유전자를 가진 박테리아의 발생과 전파를 분석한 다국적 ...  6490801-2-1   \n",
       "\n",
       "                                                 answers document_id  \\\n",
       "0                  [{'text': '교향곡', 'answer_start': 54}]        None   \n",
       "1                 [{'text': '1악장', 'answer_start': 421}]        None   \n",
       "2         [{'text': '베토벤의 교향곡 9번', 'answer_start': 194}]        None   \n",
       "3                 [{'text': '파우스트', 'answer_start': 15}]        None   \n",
       "4               [{'text': '합창교향곡', 'answer_start': 354}]        None   \n",
       "...                                                  ...         ...   \n",
       "60402               [{'text': '인도', 'answer_start': 73}]        None   \n",
       "60403          [{'text': '유전자 전달', 'answer_start': 253}]        None   \n",
       "60404             [{'text': '37건', 'answer_start': 129}]        None   \n",
       "60405            [{'text': '콜리스틴', 'answer_start': 404}]        None   \n",
       "60406  [{'text': 'The Lancet Infectious Diseases', 'a...        None   \n",
       "\n",
       "      __index_level_0__  \n",
       "0                  None  \n",
       "1                  None  \n",
       "2                  None  \n",
       "3                  None  \n",
       "4                  None  \n",
       "...                 ...  \n",
       "60402              None  \n",
       "60403              None  \n",
       "60404              None  \n",
       "60405              None  \n",
       "60406              None  \n",
       "\n",
       "[60407 rows x 7 columns]"
      ]
     },
     "execution_count": 250,
     "metadata": {},
     "output_type": "execute_result"
    }
   ],
   "source": [
    "w = pd.DataFrame(asd)\n",
    "w"
   ]
  },
  {
   "cell_type": "code",
   "execution_count": 242,
   "id": "b574376c-2b65-4b7c-a51a-6fae31af2db5",
   "metadata": {},
   "outputs": [
    {
     "name": "stderr",
     "output_type": "stream",
     "text": [
      "Using custom data configuration default-fbc91039bdd8829d\n",
      "Found cached dataset json (/opt/ml/.cache/huggingface/datasets/json/default-fbc91039bdd8829d/0.0.0/e6070c77f18f01a5ad4551a8b7edfba20b8438b7cad4d94e6ad9378022ce4aab)\n",
      "100%|██████████| 1/1 [00:23<00:00, 23.99s/it]\n"
     ]
    }
   ],
   "source": [
    "from datasets import load_dataset\n",
    "  \n",
    "train_dataset = load_dataset(\"json\", data_files=\"korquad_processed.json\")#, split='train')\n",
    "\n",
    "#train_dataset.save_to_disk(\"korquad_train\")\n",
    "#valid_dataset.save_to_dsik(\"korquad_validation\")\n",
    "\n",
    "\n"
   ]
  },
  {
   "cell_type": "code",
   "execution_count": 246,
   "id": "e0821a62-791f-4d36-a5d5-82acde70f1c8",
   "metadata": {},
   "outputs": [
    {
     "data": {
      "text/plain": [
       "Dataset({\n",
       "    features: ['title', 'context', 'question', 'id', 'answers', 'document_id', '__index_level_0__'],\n",
       "    num_rows: 1\n",
       "})"
      ]
     },
     "execution_count": 246,
     "metadata": {},
     "output_type": "execute_result"
    }
   ],
   "source": [
    "train_dataset['train']"
   ]
  },
  {
   "cell_type": "code",
   "execution_count": null,
   "id": "90029447-f5a2-41db-9b07-f6477291cd61",
   "metadata": {},
   "outputs": [],
   "source": [
    "trains_ds.save_to_disk(\"korquad_train\")\n",
    "vals_ds.save_to_dsik(\"korquad_validation\")"
   ]
  },
  {
   "cell_type": "code",
   "execution_count": 149,
   "id": "56237def-f89d-4e63-a35c-ebcd580232b4",
   "metadata": {},
   "outputs": [
    {
     "name": "stdout",
     "output_type": "stream",
     "text": [
      "{'title': 1, 'context': 2, 'question': 3, 'id': 4, 'answers': 5, 'document_id': 6, '__index_level_0__': 7}\n"
     ]
    }
   ],
   "source": [
    "nf = pd.DataFrame(columns = ['title', 'context', 'question', 'id', 'answers', 'document_id', '__index_level_0__'])\n",
    "a = []\n",
    "dict = {}\n",
    "dict['title'] = 1\n",
    "dict['context'] = 2\n",
    "dict['question'] = 3\n",
    "dict['id'] = 4\n",
    "dict['answers'] = 5\n",
    "dict['document_id'] = 6\n",
    "dict['__index_level_0__'] = 7\n",
    "print(dict)\n",
    "\n",
    "nf = append_row(nf, pd.Series(dict))"
   ]
  },
  {
   "cell_type": "code",
   "execution_count": null,
   "id": "2d4a6463-7c36-4f5d-9aeb-ec08a13ef0b7",
   "metadata": {},
   "outputs": [],
   "source": []
  },
  {
   "cell_type": "code",
   "execution_count": null,
   "id": "a032291e-fe17-4514-ab00-952ac4f9aee3",
   "metadata": {},
   "outputs": [],
   "source": []
  },
  {
   "cell_type": "code",
   "execution_count": null,
   "id": "1574f9a3-4e2f-4908-ba6d-1068bf544ef2",
   "metadata": {},
   "outputs": [],
   "source": []
  },
  {
   "cell_type": "code",
   "execution_count": null,
   "id": "91faf790-bcf4-4f50-9c1c-1c898930fb12",
   "metadata": {},
   "outputs": [],
   "source": []
  },
  {
   "cell_type": "code",
   "execution_count": null,
   "id": "1194eeaf-b5e9-47a7-a655-70b01aa9180e",
   "metadata": {},
   "outputs": [],
   "source": []
  },
  {
   "cell_type": "code",
   "execution_count": 630,
   "id": "9ac340f6-d283-44f9-8657-bec9f47f36d7",
   "metadata": {},
   "outputs": [
    {
     "data": {
      "text/plain": [
       "Dataset({\n",
       "    features: ['title', 'context', 'question', 'id', 'answers', 'document_id', '__index_level_0__'],\n",
       "    num_rows: 3952\n",
       "})"
      ]
     },
     "execution_count": 630,
     "metadata": {},
     "output_type": "execute_result"
    }
   ],
   "source": [
    "from datasets import Dataset\n",
    "\n",
    "ds = Dataset.from_file(\"../data/train_dataset/train/dataset.arrow\")\n",
    "ds\n"
   ]
  },
  {
   "cell_type": "code",
   "execution_count": 633,
   "id": "d3eef99f-23c0-4ca7-ab85-0dc25be0af96",
   "metadata": {},
   "outputs": [
    {
     "data": {
      "text/plain": [
       "Dataset({\n",
       "    features: ['title', 'context', 'question', 'id', 'answers', 'document_id', '__index_level_0__'],\n",
       "    num_rows: 3952\n",
       "})"
      ]
     },
     "execution_count": 633,
     "metadata": {},
     "output_type": "execute_result"
    }
   ],
   "source": [
    "a = Dataset.load_from_disk(\"../data/train_dataset/train\")\n",
    "a"
   ]
  },
  {
   "cell_type": "code",
   "execution_count": 313,
   "id": "82d5f41f-29d0-48dd-ac5e-111a0a41685c",
   "metadata": {},
   "outputs": [
    {
     "data": {
      "text/html": [
       "<div>\n",
       "<style scoped>\n",
       "    .dataframe tbody tr th:only-of-type {\n",
       "        vertical-align: middle;\n",
       "    }\n",
       "\n",
       "    .dataframe tbody tr th {\n",
       "        vertical-align: top;\n",
       "    }\n",
       "\n",
       "    .dataframe thead th {\n",
       "        text-align: right;\n",
       "    }\n",
       "</style>\n",
       "<table border=\"1\" class=\"dataframe\">\n",
       "  <thead>\n",
       "    <tr style=\"text-align: right;\">\n",
       "      <th></th>\n",
       "      <th>title</th>\n",
       "      <th>context</th>\n",
       "      <th>question</th>\n",
       "      <th>id</th>\n",
       "      <th>answers</th>\n",
       "      <th>document_id</th>\n",
       "      <th>__index_level_0__</th>\n",
       "    </tr>\n",
       "  </thead>\n",
       "  <tbody>\n",
       "    <tr>\n",
       "      <th>0</th>\n",
       "      <td>미국 상원</td>\n",
       "      <td>미국 상의원 또는 미국 상원(United States Senate)은 양원제인 미국...</td>\n",
       "      <td>대통령을 포함한 미국의 행정부 견제권을 갖는 국가 기관은?</td>\n",
       "      <td>mrc-1-000067</td>\n",
       "      <td>{'answer_start': [235], 'text': ['하원']}</td>\n",
       "      <td>18293</td>\n",
       "      <td>42</td>\n",
       "    </tr>\n",
       "    <tr>\n",
       "      <th>1</th>\n",
       "      <td>인사조직관리</td>\n",
       "      <td>'근대적 경영학' 또는 '고전적 경영학'에서 현대적 경영학으로 전환되는 시기는 19...</td>\n",
       "      <td>현대적 인사조직관리의 시발점이 된 책은?</td>\n",
       "      <td>mrc-0-004397</td>\n",
       "      <td>{'answer_start': [212], 'text': ['《경영의 실제》']}</td>\n",
       "      <td>51638</td>\n",
       "      <td>2873</td>\n",
       "    </tr>\n",
       "    <tr>\n",
       "      <th>2</th>\n",
       "      <td>강희제</td>\n",
       "      <td>강희제는 강화된 황권으로 거의 황제 중심의 독단적으로 나라를 이끌어 갔기에 자칫 전...</td>\n",
       "      <td>강희제가 1717년에 쓴 글은 누구를 위해 쓰여졌는가?</td>\n",
       "      <td>mrc-1-000362</td>\n",
       "      <td>{'answer_start': [510], 'text': ['백성']}</td>\n",
       "      <td>5028</td>\n",
       "      <td>230</td>\n",
       "    </tr>\n",
       "    <tr>\n",
       "      <th>3</th>\n",
       "      <td>금동삼존불감</td>\n",
       "      <td>불상을 모시기 위해 나무나 돌, 쇠 등을 깎아 일반적인 건축물보다 작은 규모로 만든...</td>\n",
       "      <td>11~12세기에 제작된 본존불은 보통 어떤 나라의 특징이 전파되었나요?</td>\n",
       "      <td>mrc-0-001510</td>\n",
       "      <td>{'answer_start': [625], 'text': ['중국']}</td>\n",
       "      <td>34146</td>\n",
       "      <td>992</td>\n",
       "    </tr>\n",
       "    <tr>\n",
       "      <th>4</th>\n",
       "      <td>계사명 사리구</td>\n",
       "      <td>동아대학교박물관에서 소장하고 있는 계사명 사리구는 총 4개의 용기로 구성된 조선후기...</td>\n",
       "      <td>명문이 적힌 유물을 구성하는 그릇의 총 개수는?</td>\n",
       "      <td>mrc-0-000823</td>\n",
       "      <td>{'answer_start': [30], 'text': ['4개']}</td>\n",
       "      <td>47334</td>\n",
       "      <td>548</td>\n",
       "    </tr>\n",
       "    <tr>\n",
       "      <th>...</th>\n",
       "      <td>...</td>\n",
       "      <td>...</td>\n",
       "      <td>...</td>\n",
       "      <td>...</td>\n",
       "      <td>...</td>\n",
       "      <td>...</td>\n",
       "      <td>...</td>\n",
       "    </tr>\n",
       "    <tr>\n",
       "      <th>3947</th>\n",
       "      <td>이오 (위성)</td>\n",
       "      <td>이오의 산\\n이오의 산 목록\\n 이오에는 100~150개의 산이 있다. 이들 산의 ...</td>\n",
       "      <td>대부분의 이오의 산이 형성되는데 영향을 끼친 것은?</td>\n",
       "      <td>mrc-0-005285</td>\n",
       "      <td>{'answer_start': [317], 'text': ['지질 구조']}</td>\n",
       "      <td>8275</td>\n",
       "      <td>3445</td>\n",
       "    </tr>\n",
       "    <tr>\n",
       "      <th>3948</th>\n",
       "      <td>내니 다이어리</td>\n",
       "      <td>애니의 고군분투 뉴욕 입성기!!\\n\\n인류학자가 꿈인 21살 소녀 '애니(스칼렛 요...</td>\n",
       "      <td>애니는 어디서 태어났는가?</td>\n",
       "      <td>mrc-1-000699</td>\n",
       "      <td>{'answer_start': [616], 'text': ['뉴저지']}</td>\n",
       "      <td>37764</td>\n",
       "      <td>450</td>\n",
       "    </tr>\n",
       "    <tr>\n",
       "      <th>3949</th>\n",
       "      <td>빈 필하모니 관현악단</td>\n",
       "      <td>1842년에 작곡가이자 지휘자인 오토 니콜라이가 빈 궁정 오페라극장 소속 관현악단을...</td>\n",
       "      <td>1854년에 니콜라이의 뒤를 이어 상임 지휘자로서 활동한 인물은?</td>\n",
       "      <td>mrc-0-003429</td>\n",
       "      <td>{'answer_start': [255], 'text': ['칼 에케르트']}</td>\n",
       "      <td>12730</td>\n",
       "      <td>2252</td>\n",
       "    </tr>\n",
       "    <tr>\n",
       "      <th>3950</th>\n",
       "      <td>드래곤</td>\n",
       "      <td>원어는 고대 그리스어까지 거슬러 올라간다. 영어 문헌에 이 말이 나타나기 시작한 것...</td>\n",
       "      <td>드래곤의 암수 구분이 있는 신화는?</td>\n",
       "      <td>mrc-0-003956</td>\n",
       "      <td>{'answer_start': [476], 'text': ['슬라브 신화']}</td>\n",
       "      <td>10924</td>\n",
       "      <td>2595</td>\n",
       "    </tr>\n",
       "    <tr>\n",
       "      <th>3951</th>\n",
       "      <td>2011년 함부르크 주의회 선거</td>\n",
       "      <td>2008년 2월 28일 실시된 2008년 함부르크 주의회 선거에서 기민련은 과반수 ...</td>\n",
       "      <td>올레 폰 보이스트 이후에 시장으로 임명된 사람은 누구인가?</td>\n",
       "      <td>mrc-0-003589</td>\n",
       "      <td>{'answer_start': [189], 'text': ['크리스토포 알하우스']}</td>\n",
       "      <td>27803</td>\n",
       "      <td>2354</td>\n",
       "    </tr>\n",
       "  </tbody>\n",
       "</table>\n",
       "<p>3952 rows × 7 columns</p>\n",
       "</div>"
      ],
      "text/plain": [
       "                  title                                            context  \\\n",
       "0                 미국 상원  미국 상의원 또는 미국 상원(United States Senate)은 양원제인 미국...   \n",
       "1                인사조직관리  '근대적 경영학' 또는 '고전적 경영학'에서 현대적 경영학으로 전환되는 시기는 19...   \n",
       "2                   강희제  강희제는 강화된 황권으로 거의 황제 중심의 독단적으로 나라를 이끌어 갔기에 자칫 전...   \n",
       "3                금동삼존불감  불상을 모시기 위해 나무나 돌, 쇠 등을 깎아 일반적인 건축물보다 작은 규모로 만든...   \n",
       "4               계사명 사리구  동아대학교박물관에서 소장하고 있는 계사명 사리구는 총 4개의 용기로 구성된 조선후기...   \n",
       "...                 ...                                                ...   \n",
       "3947            이오 (위성)  이오의 산\\n이오의 산 목록\\n 이오에는 100~150개의 산이 있다. 이들 산의 ...   \n",
       "3948            내니 다이어리  애니의 고군분투 뉴욕 입성기!!\\n\\n인류학자가 꿈인 21살 소녀 '애니(스칼렛 요...   \n",
       "3949        빈 필하모니 관현악단  1842년에 작곡가이자 지휘자인 오토 니콜라이가 빈 궁정 오페라극장 소속 관현악단을...   \n",
       "3950                드래곤  원어는 고대 그리스어까지 거슬러 올라간다. 영어 문헌에 이 말이 나타나기 시작한 것...   \n",
       "3951  2011년 함부르크 주의회 선거  2008년 2월 28일 실시된 2008년 함부르크 주의회 선거에서 기민련은 과반수 ...   \n",
       "\n",
       "                                     question            id  \\\n",
       "0            대통령을 포함한 미국의 행정부 견제권을 갖는 국가 기관은?  mrc-1-000067   \n",
       "1                      현대적 인사조직관리의 시발점이 된 책은?  mrc-0-004397   \n",
       "2              강희제가 1717년에 쓴 글은 누구를 위해 쓰여졌는가?  mrc-1-000362   \n",
       "3     11~12세기에 제작된 본존불은 보통 어떤 나라의 특징이 전파되었나요?  mrc-0-001510   \n",
       "4                  명문이 적힌 유물을 구성하는 그릇의 총 개수는?  mrc-0-000823   \n",
       "...                                       ...           ...   \n",
       "3947             대부분의 이오의 산이 형성되는데 영향을 끼친 것은?  mrc-0-005285   \n",
       "3948                           애니는 어디서 태어났는가?  mrc-1-000699   \n",
       "3949     1854년에 니콜라이의 뒤를 이어 상임 지휘자로서 활동한 인물은?  mrc-0-003429   \n",
       "3950                      드래곤의 암수 구분이 있는 신화는?  mrc-0-003956   \n",
       "3951         올레 폰 보이스트 이후에 시장으로 임명된 사람은 누구인가?  mrc-0-003589   \n",
       "\n",
       "                                              answers  document_id  \\\n",
       "0             {'answer_start': [235], 'text': ['하원']}        18293   \n",
       "1       {'answer_start': [212], 'text': ['《경영의 실제》']}        51638   \n",
       "2             {'answer_start': [510], 'text': ['백성']}         5028   \n",
       "3             {'answer_start': [625], 'text': ['중국']}        34146   \n",
       "4              {'answer_start': [30], 'text': ['4개']}        47334   \n",
       "...                                               ...          ...   \n",
       "3947       {'answer_start': [317], 'text': ['지질 구조']}         8275   \n",
       "3948         {'answer_start': [616], 'text': ['뉴저지']}        37764   \n",
       "3949      {'answer_start': [255], 'text': ['칼 에케르트']}        12730   \n",
       "3950      {'answer_start': [476], 'text': ['슬라브 신화']}        10924   \n",
       "3951  {'answer_start': [189], 'text': ['크리스토포 알하우스']}        27803   \n",
       "\n",
       "      __index_level_0__  \n",
       "0                    42  \n",
       "1                  2873  \n",
       "2                   230  \n",
       "3                   992  \n",
       "4                   548  \n",
       "...                 ...  \n",
       "3947               3445  \n",
       "3948                450  \n",
       "3949               2252  \n",
       "3950               2595  \n",
       "3951               2354  \n",
       "\n",
       "[3952 rows x 7 columns]"
      ]
     },
     "execution_count": 313,
     "metadata": {},
     "output_type": "execute_result"
    }
   ],
   "source": [
    "df2 = pd.DataFrame(a)\n",
    "df2"
   ]
  },
  {
   "cell_type": "code",
   "execution_count": 339,
   "id": "580f9f5c-9497-41f7-9a58-1e7a1a3ae965",
   "metadata": {},
   "outputs": [
    {
     "data": {
      "text/html": [
       "<div>\n",
       "<style scoped>\n",
       "    .dataframe tbody tr th:only-of-type {\n",
       "        vertical-align: middle;\n",
       "    }\n",
       "\n",
       "    .dataframe tbody tr th {\n",
       "        vertical-align: top;\n",
       "    }\n",
       "\n",
       "    .dataframe thead th {\n",
       "        text-align: right;\n",
       "    }\n",
       "</style>\n",
       "<table border=\"1\" class=\"dataframe\">\n",
       "  <thead>\n",
       "    <tr style=\"text-align: right;\">\n",
       "      <th></th>\n",
       "      <th>title</th>\n",
       "      <th>context</th>\n",
       "      <th>question</th>\n",
       "      <th>id</th>\n",
       "      <th>answers</th>\n",
       "      <th>document_id</th>\n",
       "      <th>__index_level_0__</th>\n",
       "    </tr>\n",
       "  </thead>\n",
       "  <tbody>\n",
       "    <tr>\n",
       "      <th>0</th>\n",
       "      <td>미국 상원</td>\n",
       "      <td>미국 상의원 또는 미국 상원(United States Senate)은 양원제인 미국...</td>\n",
       "      <td>대통령을 포함한 미국의 행정부 견제권을 갖는 국가 기관은?</td>\n",
       "      <td>mrc-1-000067</td>\n",
       "      <td>{'answer_start': [235], 'text': ['하원']}</td>\n",
       "      <td>18293</td>\n",
       "      <td>42</td>\n",
       "    </tr>\n",
       "    <tr>\n",
       "      <th>1</th>\n",
       "      <td>인사조직관리</td>\n",
       "      <td>'근대적 경영학' 또는 '고전적 경영학'에서 현대적 경영학으로 전환되는 시기는 19...</td>\n",
       "      <td>현대적 인사조직관리의 시발점이 된 책은?</td>\n",
       "      <td>mrc-0-004397</td>\n",
       "      <td>{'answer_start': [212], 'text': ['《경영의 실제》']}</td>\n",
       "      <td>51638</td>\n",
       "      <td>2873</td>\n",
       "    </tr>\n",
       "    <tr>\n",
       "      <th>2</th>\n",
       "      <td>강희제</td>\n",
       "      <td>강희제는 강화된 황권으로 거의 황제 중심의 독단적으로 나라를 이끌어 갔기에 자칫 전...</td>\n",
       "      <td>강희제가 1717년에 쓴 글은 누구를 위해 쓰여졌는가?</td>\n",
       "      <td>mrc-1-000362</td>\n",
       "      <td>{'answer_start': [510], 'text': ['백성']}</td>\n",
       "      <td>5028</td>\n",
       "      <td>230</td>\n",
       "    </tr>\n",
       "    <tr>\n",
       "      <th>3</th>\n",
       "      <td>금동삼존불감</td>\n",
       "      <td>불상을 모시기 위해 나무나 돌, 쇠 등을 깎아 일반적인 건축물보다 작은 규모로 만든...</td>\n",
       "      <td>11~12세기에 제작된 본존불은 보통 어떤 나라의 특징이 전파되었나요?</td>\n",
       "      <td>mrc-0-001510</td>\n",
       "      <td>{'answer_start': [625], 'text': ['중국']}</td>\n",
       "      <td>34146</td>\n",
       "      <td>992</td>\n",
       "    </tr>\n",
       "    <tr>\n",
       "      <th>4</th>\n",
       "      <td>계사명 사리구</td>\n",
       "      <td>동아대학교박물관에서 소장하고 있는 계사명 사리구는 총 4개의 용기로 구성된 조선후기...</td>\n",
       "      <td>명문이 적힌 유물을 구성하는 그릇의 총 개수는?</td>\n",
       "      <td>mrc-0-000823</td>\n",
       "      <td>{'answer_start': [30], 'text': ['4개']}</td>\n",
       "      <td>47334</td>\n",
       "      <td>548</td>\n",
       "    </tr>\n",
       "    <tr>\n",
       "      <th>...</th>\n",
       "      <td>...</td>\n",
       "      <td>...</td>\n",
       "      <td>...</td>\n",
       "      <td>...</td>\n",
       "      <td>...</td>\n",
       "      <td>...</td>\n",
       "      <td>...</td>\n",
       "    </tr>\n",
       "    <tr>\n",
       "      <th>124761</th>\n",
       "      <td>뉴델리_메탈로-베타락타마제</td>\n",
       "      <td>유전자의 이름은 인도의 수도 뉴델리의 이름을 따 붙여졌는데, 이는 2009년 용 (...</td>\n",
       "      <td>뉴델리 메탈로 베타락마제가 처음 감염 된 지역은 어디인가?</td>\n",
       "      <td>6467478-1-1</td>\n",
       "      <td>[{'text': '인도', 'answer_start': 73}]</td>\n",
       "      <td>NaN</td>\n",
       "      <td>NaN</td>\n",
       "    </tr>\n",
       "    <tr>\n",
       "      <th>124762</th>\n",
       "      <td>뉴델리_메탈로-베타락타마제</td>\n",
       "      <td>2010년 8월, 저널 The Lancet Infectious Diseases에 최...</td>\n",
       "      <td>균은 유전자를 균에게 전달 할 수있는데 이러한 현상을 나타낸 용어는 무엇인가?</td>\n",
       "      <td>6467478-2-0</td>\n",
       "      <td>[{'text': '유전자 전달', 'answer_start': 253}]</td>\n",
       "      <td>NaN</td>\n",
       "      <td>NaN</td>\n",
       "    </tr>\n",
       "    <tr>\n",
       "      <th>124763</th>\n",
       "      <td>뉴델리_메탈로-베타락타마제</td>\n",
       "      <td>2010년 8월, 저널 The Lancet Infectious Diseases에 최...</td>\n",
       "      <td>박테리아가 NDM-1 유전자를 가지고 있을때 발생하는 전파를 분석하기위해 사용된 영...</td>\n",
       "      <td>6467478-2-1</td>\n",
       "      <td>[{'text': '37건', 'answer_start': 129}]</td>\n",
       "      <td>NaN</td>\n",
       "      <td>NaN</td>\n",
       "    </tr>\n",
       "    <tr>\n",
       "      <th>124764</th>\n",
       "      <td>뉴델리_메탈로-베타락타마제</td>\n",
       "      <td>2010년 8월, 저널 The Lancet Infectious Diseases에 최...</td>\n",
       "      <td>NDM-1 유전자를 가진 박테리아가 감수성을 보인 폴리믹슨 계열 항생제는?</td>\n",
       "      <td>6490801-2-0</td>\n",
       "      <td>[{'text': '콜리스틴', 'answer_start': 404}]</td>\n",
       "      <td>NaN</td>\n",
       "      <td>NaN</td>\n",
       "    </tr>\n",
       "    <tr>\n",
       "      <th>124765</th>\n",
       "      <td>뉴델리_메탈로-베타락타마제</td>\n",
       "      <td>2010년 8월, 저널 The Lancet Infectious Diseases에 최...</td>\n",
       "      <td>2010년 8월, NDM-1 유전자를 가진 박테리아의 발생과 전파를 분석한 다국적 ...</td>\n",
       "      <td>6490801-2-1</td>\n",
       "      <td>[{'text': 'The Lancet Infectious Diseases', 'a...</td>\n",
       "      <td>NaN</td>\n",
       "      <td>NaN</td>\n",
       "    </tr>\n",
       "  </tbody>\n",
       "</table>\n",
       "<p>124766 rows × 7 columns</p>\n",
       "</div>"
      ],
      "text/plain": [
       "                 title                                            context  \\\n",
       "0                미국 상원  미국 상의원 또는 미국 상원(United States Senate)은 양원제인 미국...   \n",
       "1               인사조직관리  '근대적 경영학' 또는 '고전적 경영학'에서 현대적 경영학으로 전환되는 시기는 19...   \n",
       "2                  강희제  강희제는 강화된 황권으로 거의 황제 중심의 독단적으로 나라를 이끌어 갔기에 자칫 전...   \n",
       "3               금동삼존불감  불상을 모시기 위해 나무나 돌, 쇠 등을 깎아 일반적인 건축물보다 작은 규모로 만든...   \n",
       "4              계사명 사리구  동아대학교박물관에서 소장하고 있는 계사명 사리구는 총 4개의 용기로 구성된 조선후기...   \n",
       "...                ...                                                ...   \n",
       "124761  뉴델리_메탈로-베타락타마제  유전자의 이름은 인도의 수도 뉴델리의 이름을 따 붙여졌는데, 이는 2009년 용 (...   \n",
       "124762  뉴델리_메탈로-베타락타마제  2010년 8월, 저널 The Lancet Infectious Diseases에 최...   \n",
       "124763  뉴델리_메탈로-베타락타마제  2010년 8월, 저널 The Lancet Infectious Diseases에 최...   \n",
       "124764  뉴델리_메탈로-베타락타마제  2010년 8월, 저널 The Lancet Infectious Diseases에 최...   \n",
       "124765  뉴델리_메탈로-베타락타마제  2010년 8월, 저널 The Lancet Infectious Diseases에 최...   \n",
       "\n",
       "                                                 question            id  \\\n",
       "0                        대통령을 포함한 미국의 행정부 견제권을 갖는 국가 기관은?  mrc-1-000067   \n",
       "1                                  현대적 인사조직관리의 시발점이 된 책은?  mrc-0-004397   \n",
       "2                          강희제가 1717년에 쓴 글은 누구를 위해 쓰여졌는가?  mrc-1-000362   \n",
       "3                 11~12세기에 제작된 본존불은 보통 어떤 나라의 특징이 전파되었나요?  mrc-0-001510   \n",
       "4                              명문이 적힌 유물을 구성하는 그릇의 총 개수는?  mrc-0-000823   \n",
       "...                                                   ...           ...   \n",
       "124761                   뉴델리 메탈로 베타락마제가 처음 감염 된 지역은 어디인가?   6467478-1-1   \n",
       "124762        균은 유전자를 균에게 전달 할 수있는데 이러한 현상을 나타낸 용어는 무엇인가?   6467478-2-0   \n",
       "124763  박테리아가 NDM-1 유전자를 가지고 있을때 발생하는 전파를 분석하기위해 사용된 영...   6467478-2-1   \n",
       "124764         NDM-1 유전자를 가진 박테리아가 감수성을 보인 폴리믹슨 계열 항생제는?    6490801-2-0   \n",
       "124765  2010년 8월, NDM-1 유전자를 가진 박테리아의 발생과 전파를 분석한 다국적 ...   6490801-2-1   \n",
       "\n",
       "                                                  answers document_id  \\\n",
       "0                 {'answer_start': [235], 'text': ['하원']}       18293   \n",
       "1           {'answer_start': [212], 'text': ['《경영의 실제》']}       51638   \n",
       "2                 {'answer_start': [510], 'text': ['백성']}        5028   \n",
       "3                 {'answer_start': [625], 'text': ['중국']}       34146   \n",
       "4                  {'answer_start': [30], 'text': ['4개']}       47334   \n",
       "...                                                   ...         ...   \n",
       "124761               [{'text': '인도', 'answer_start': 73}]         NaN   \n",
       "124762          [{'text': '유전자 전달', 'answer_start': 253}]         NaN   \n",
       "124763             [{'text': '37건', 'answer_start': 129}]         NaN   \n",
       "124764            [{'text': '콜리스틴', 'answer_start': 404}]         NaN   \n",
       "124765  [{'text': 'The Lancet Infectious Diseases', 'a...         NaN   \n",
       "\n",
       "       __index_level_0__  \n",
       "0                     42  \n",
       "1                   2873  \n",
       "2                    230  \n",
       "3                    992  \n",
       "4                    548  \n",
       "...                  ...  \n",
       "124761               NaN  \n",
       "124762               NaN  \n",
       "124763               NaN  \n",
       "124764               NaN  \n",
       "124765               NaN  \n",
       "\n",
       "[124766 rows x 7 columns]"
      ]
     },
     "execution_count": 339,
     "metadata": {},
     "output_type": "execute_result"
    }
   ],
   "source": [
    "df2 = pd.concat([df2, nf], ignore_index=True)\n",
    "df2"
   ]
  },
  {
   "cell_type": "code",
   "execution_count": 600,
   "id": "cf89c793-370f-4589-9e6d-3ec062fa8474",
   "metadata": {},
   "outputs": [
    {
     "data": {
      "text/plain": [
       "Index(['title', 'context', 'question', 'id', 'answers'], dtype='object')"
      ]
     },
     "execution_count": 600,
     "metadata": {},
     "output_type": "execute_result"
    }
   ],
   "source": [
    "#df2 = df2.drop(['document_id', '__index_level_0__'], axis = 1)\n",
    "df2.columns"
   ]
  },
  {
   "cell_type": "code",
   "execution_count": 608,
   "id": "8aa4b009-5b65-431b-9c66-dd76f8bd91ac",
   "metadata": {},
   "outputs": [],
   "source": [
    "df2.to_json('data_dropped_added_korquad2.json', orient='records')"
   ]
  },
  {
   "cell_type": "code",
   "execution_count": 709,
   "id": "5428d108-dc8c-4eba-a562-ec779c4854f3",
   "metadata": {},
   "outputs": [],
   "source": [
    "input_filename = '../data/KorQuAD_v1.0_train.json'\n",
    "output_filename = \"korquad.json\"\n",
    "\n",
    "with open(input_filename, 'r', encoding='utf-8-sig') as f:\n",
    "    dataset = json.load(f)\n",
    "\n",
    "with open(output_filename, 'w') as f:\n",
    "    for article in dataset[\"data\"]:\n",
    "        title = article[\"title\"]\n",
    "        #title = \"title\" #this covid json file has no title but Squad 2.0 requires title, so I put fake one\n",
    "        for paragraph in article[\"paragraphs\"]:\n",
    "            context = paragraph[\"context\"]\n",
    "            answers = {}\n",
    "            for qa in paragraph[\"qas\"]:\n",
    "                question = qa[\"question\"]\n",
    "                idx = qa[\"id\"]\n",
    "                answers[\"text\"] = [a[\"text\"] for a in qa[\"answers\"]]\n",
    "                answers[\"answer_start\"] = [a[\"answer_start\"] for a in qa[\"answers\"]]\n",
    "                f.write(\n",
    "                    json.dumps(\n",
    "                        {\n",
    "                            \"title\": title,\n",
    "                            \"context\": context,\n",
    "                            \"question\": question,\n",
    "                            \"id\": idx,\n",
    "                            \"answers\": answers,\n",
    "                        }\n",
    "                    )\n",
    "                )\n",
    "                f.write(\"\\n\")\n",
    "\n"
   ]
  },
  {
   "cell_type": "code",
   "execution_count": 710,
   "id": "999fcaa8-faed-4503-b9f9-5711c55fd9fa",
   "metadata": {},
   "outputs": [
    {
     "name": "stderr",
     "output_type": "stream",
     "text": [
      "Using custom data configuration default-b02c3d2329a1bd9d\n"
     ]
    },
    {
     "name": "stdout",
     "output_type": "stream",
     "text": [
      "Downloading and preparing dataset json/default to /opt/ml/.cache/huggingface/datasets/json/default-b02c3d2329a1bd9d/0.0.0/e6070c77f18f01a5ad4551a8b7edfba20b8438b7cad4d94e6ad9378022ce4aab...\n"
     ]
    },
    {
     "name": "stderr",
     "output_type": "stream",
     "text": [
      "\n",
      "Downloading data files: 100%|██████████| 1/1 [00:00<00:00, 5084.00it/s]\n",
      "\n",
      "Extracting data files: 100%|██████████| 1/1 [00:00<00:00, 636.95it/s]\n",
      "\n",
      "Generating train split: 0 examples [00:00, ? examples/s]\u001b[A\n",
      "Generating train split: 4094 examples [00:00, 34189.11 examples/s]\u001b[A\n",
      "Generating train split: 20211 examples [00:00, 92580.75 examples/s]\u001b[A\n",
      "Generating train split: 36306 examples [00:00, 111431.21 examples/s]\u001b[A\n",
      "Generating train split: 52404 examples [00:00, 118798.98 examples/s]\u001b[A\n",
      "                                                                    \u001b[A"
     ]
    },
    {
     "name": "stdout",
     "output_type": "stream",
     "text": [
      "Dataset json downloaded and prepared to /opt/ml/.cache/huggingface/datasets/json/default-b02c3d2329a1bd9d/0.0.0/e6070c77f18f01a5ad4551a8b7edfba20b8438b7cad4d94e6ad9378022ce4aab. Subsequent calls will reuse this data.\n"
     ]
    },
    {
     "name": "stderr",
     "output_type": "stream",
     "text": [
      "\n",
      "100%|██████████| 1/1 [00:00<00:00, 68.31it/s]\n"
     ]
    }
   ],
   "source": [
    "dss = load_dataset(\"json\", data_files=output_filename)"
   ]
  },
  {
   "cell_type": "code",
   "execution_count": 712,
   "id": "c3aa8506-a4f3-4dab-8b81-2f1e6246e9de",
   "metadata": {},
   "outputs": [
    {
     "data": {
      "text/plain": [
       "DatasetDict({\n",
       "    train: Dataset({\n",
       "        features: ['title', 'context', 'question', 'id', 'answers'],\n",
       "        num_rows: 60407\n",
       "    })\n",
       "})"
      ]
     },
     "execution_count": 712,
     "metadata": {},
     "output_type": "execute_result"
    }
   ],
   "source": [
    "dss"
   ]
  },
  {
   "cell_type": "code",
   "execution_count": 713,
   "id": "26c39fe0-96bb-42e8-b4c7-235d3ec74739",
   "metadata": {},
   "outputs": [
    {
     "data": {
      "text/plain": [
       "Dataset({\n",
       "    features: ['title', 'context', 'question', 'id', 'answers'],\n",
       "    num_rows: 54366\n",
       "})"
      ]
     },
     "execution_count": 713,
     "metadata": {},
     "output_type": "execute_result"
    }
   ],
   "source": [
    "#ds = dss['train'].train_test_split(test_size=0.1, shuffle=False)\n",
    "train_dataset, validation_dataset= dss['train'].train_test_split(test_size=0.1).values()\n",
    "train_dataset"
   ]
  },
  {
   "cell_type": "code",
   "execution_count": 714,
   "id": "c6249488-5e1a-493f-b89d-dd1edfbc6c48",
   "metadata": {},
   "outputs": [
    {
     "data": {
      "text/plain": [
       "Dataset({\n",
       "    features: ['title', 'context', 'question', 'id', 'answers'],\n",
       "    num_rows: 6041\n",
       "})"
      ]
     },
     "execution_count": 714,
     "metadata": {},
     "output_type": "execute_result"
    }
   ],
   "source": [
    "validation_dataset"
   ]
  },
  {
   "cell_type": "code",
   "execution_count": 460,
   "id": "ad3a32ec-32c5-41b1-adf3-bb3c91e9184b",
   "metadata": {},
   "outputs": [
    {
     "name": "stderr",
     "output_type": "stream",
     "text": [
      "Flattening the indices: 100%|██████████| 55/55 [00:03<00:00, 17.50ba/s]\n",
      "Flattening the indices: 100%|██████████| 7/7 [00:00<00:00, 19.57ba/s]\n"
     ]
    }
   ],
   "source": [
    "dataset = DatasetDict({'train': train_dataset, 'validation': validation_dataset})\n",
    "dataset.save_to_disk(\"korquad\")"
   ]
  },
  {
   "cell_type": "code",
   "execution_count": 426,
   "id": "991926a6-681e-4819-8744-1d7be7abab07",
   "metadata": {},
   "outputs": [
    {
     "name": "stderr",
     "output_type": "stream",
     "text": [
      "Using custom data configuration default-0a6f22835a309386\n",
      "Found cached dataset json (/opt/ml/.cache/huggingface/datasets/json/default-0a6f22835a309386/0.0.0/e6070c77f18f01a5ad4551a8b7edfba20b8438b7cad4d94e6ad9378022ce4aab)\n",
      "100%|██████████| 1/1 [00:00<00:00, 73.83it/s]\n"
     ]
    }
   ],
   "source": [
    "from datasets import Dataset, DatasetDict, load_dataset, load_from_disk\n",
    " \n",
    "#test_dataset = load_from_disk('data_dropped_added_korquad2.json')\n",
    "\n",
    "test_dataset = load_dataset(\"json\", data_files=\"korquad.json\")#, field='data')#, field='train')#['train']#, field=\"data\")#[\"train\"]\n",
    "\n",
    "test_dataset.save_to_disk(\"korquad\")"
   ]
  },
  {
   "cell_type": "code",
   "execution_count": 461,
   "id": "45e98aaa-b6a2-407b-9d51-e8439e3cd499",
   "metadata": {},
   "outputs": [
    {
     "name": "stderr",
     "output_type": "stream",
     "text": [
      "Using custom data configuration default-0a6f22835a309386\n",
      "Found cached dataset json (/opt/ml/.cache/huggingface/datasets/json/default-0a6f22835a309386/0.0.0/e6070c77f18f01a5ad4551a8b7edfba20b8438b7cad4d94e6ad9378022ce4aab)\n",
      "100%|██████████| 1/1 [00:00<00:00, 78.19it/s]\n"
     ]
    }
   ],
   "source": [
    "added_dss = load_dataset(\"json\", data_files=output_filename)"
   ]
  },
  {
   "cell_type": "code",
   "execution_count": 629,
   "id": "9a36db6b-6e63-45ac-8f58-9d6b84831ea3",
   "metadata": {},
   "outputs": [
    {
     "data": {
      "text/plain": [
       "Dataset({\n",
       "    features: ['title', 'context', 'question', 'id', 'answers'],\n",
       "    num_rows: 60407\n",
       "})"
      ]
     },
     "execution_count": 629,
     "metadata": {},
     "output_type": "execute_result"
    }
   ],
   "source": [
    "added_dss['train']"
   ]
  },
  {
   "cell_type": "code",
   "execution_count": 473,
   "id": "a3ee454d-1e4c-4eff-a36e-d10edf029204",
   "metadata": {},
   "outputs": [],
   "source": [
    "df_added = pd.DataFrame(added_dss)"
   ]
  },
  {
   "cell_type": "code",
   "execution_count": 474,
   "id": "91432f7a-46d8-4b5d-aef1-a79d4293362e",
   "metadata": {},
   "outputs": [
    {
     "data": {
      "text/html": [
       "<div>\n",
       "<style scoped>\n",
       "    .dataframe tbody tr th:only-of-type {\n",
       "        vertical-align: middle;\n",
       "    }\n",
       "\n",
       "    .dataframe tbody tr th {\n",
       "        vertical-align: top;\n",
       "    }\n",
       "\n",
       "    .dataframe thead th {\n",
       "        text-align: right;\n",
       "    }\n",
       "</style>\n",
       "<table border=\"1\" class=\"dataframe\">\n",
       "  <thead>\n",
       "    <tr style=\"text-align: right;\">\n",
       "      <th></th>\n",
       "      <th>train</th>\n",
       "    </tr>\n",
       "  </thead>\n",
       "  <tbody>\n",
       "    <tr>\n",
       "      <th>0</th>\n",
       "      <td>{'title': '파우스트_서곡', 'context': '1839년 바그너는 괴테...</td>\n",
       "    </tr>\n",
       "    <tr>\n",
       "      <th>1</th>\n",
       "      <td>{'title': '파우스트_서곡', 'context': '1839년 바그너는 괴테...</td>\n",
       "    </tr>\n",
       "    <tr>\n",
       "      <th>2</th>\n",
       "      <td>{'title': '파우스트_서곡', 'context': '1839년 바그너는 괴테...</td>\n",
       "    </tr>\n",
       "    <tr>\n",
       "      <th>3</th>\n",
       "      <td>{'title': '파우스트_서곡', 'context': '1839년 바그너는 괴테...</td>\n",
       "    </tr>\n",
       "    <tr>\n",
       "      <th>4</th>\n",
       "      <td>{'title': '파우스트_서곡', 'context': '1839년 바그너는 괴테...</td>\n",
       "    </tr>\n",
       "    <tr>\n",
       "      <th>...</th>\n",
       "      <td>...</td>\n",
       "    </tr>\n",
       "    <tr>\n",
       "      <th>60402</th>\n",
       "      <td>{'title': '뉴델리_메탈로-베타락타마제', 'context': '유전자의 이...</td>\n",
       "    </tr>\n",
       "    <tr>\n",
       "      <th>60403</th>\n",
       "      <td>{'title': '뉴델리_메탈로-베타락타마제', 'context': '2010년 ...</td>\n",
       "    </tr>\n",
       "    <tr>\n",
       "      <th>60404</th>\n",
       "      <td>{'title': '뉴델리_메탈로-베타락타마제', 'context': '2010년 ...</td>\n",
       "    </tr>\n",
       "    <tr>\n",
       "      <th>60405</th>\n",
       "      <td>{'title': '뉴델리_메탈로-베타락타마제', 'context': '2010년 ...</td>\n",
       "    </tr>\n",
       "    <tr>\n",
       "      <th>60406</th>\n",
       "      <td>{'title': '뉴델리_메탈로-베타락타마제', 'context': '2010년 ...</td>\n",
       "    </tr>\n",
       "  </tbody>\n",
       "</table>\n",
       "<p>60407 rows × 1 columns</p>\n",
       "</div>"
      ],
      "text/plain": [
       "                                                   train\n",
       "0      {'title': '파우스트_서곡', 'context': '1839년 바그너는 괴테...\n",
       "1      {'title': '파우스트_서곡', 'context': '1839년 바그너는 괴테...\n",
       "2      {'title': '파우스트_서곡', 'context': '1839년 바그너는 괴테...\n",
       "3      {'title': '파우스트_서곡', 'context': '1839년 바그너는 괴테...\n",
       "4      {'title': '파우스트_서곡', 'context': '1839년 바그너는 괴테...\n",
       "...                                                  ...\n",
       "60402  {'title': '뉴델리_메탈로-베타락타마제', 'context': '유전자의 이...\n",
       "60403  {'title': '뉴델리_메탈로-베타락타마제', 'context': '2010년 ...\n",
       "60404  {'title': '뉴델리_메탈로-베타락타마제', 'context': '2010년 ...\n",
       "60405  {'title': '뉴델리_메탈로-베타락타마제', 'context': '2010년 ...\n",
       "60406  {'title': '뉴델리_메탈로-베타락타마제', 'context': '2010년 ...\n",
       "\n",
       "[60407 rows x 1 columns]"
      ]
     },
     "execution_count": 474,
     "metadata": {},
     "output_type": "execute_result"
    }
   ],
   "source": [
    "df_added"
   ]
  },
  {
   "cell_type": "code",
   "execution_count": 687,
   "id": "9214393d-9461-4a30-a9a6-7cb65056dc80",
   "metadata": {},
   "outputs": [
    {
     "data": {
      "text/plain": [
       "Dataset({\n",
       "    features: ['title', 'context', 'question', 'id', 'answers', 'document_id', '__index_level_0__'],\n",
       "    num_rows: 3952\n",
       "})"
      ]
     },
     "execution_count": 687,
     "metadata": {},
     "output_type": "execute_result"
    }
   ],
   "source": [
    "ds_arrow = Dataset.from_file(\"../data/train_dataset/train/dataset.arrow\")\n",
    "df_arrow = pd.DataFrame(ds_arrow)\n",
    "df_arrow = df_arrow.drop(['document_id', '__index_level_0__'], axis = 1)\n",
    "ds_arrow\n"
   ]
  },
  {
   "cell_type": "code",
   "execution_count": 763,
   "id": "96513f5d-9c03-4c10-9df2-2a8c090d1d41",
   "metadata": {},
   "outputs": [],
   "source": [
    "output_filename = 'original_dataset.json'\n",
    "with open(output_filename, 'w') as f:\n",
    "    for article in ds_arrow:\n",
    "        title = article[\"title\"]\n",
    "        context = article[\"context\"]\n",
    "        question = article[\"question\"]\n",
    "        idx = article[\"id\"]\n",
    "        answers = {}\n",
    "        answers['text'] = article['answers']['text']\n",
    "        answers['answer_start'] = article['answers']['answer_start']\n",
    "        #array = [answers]\n",
    "        #print(answers)\n",
    "        \n",
    "        f.write(\n",
    "            json.dumps(\n",
    "                {\n",
    "                    \"title\": title,\n",
    "                    \"context\": context,\n",
    "                    \"question\": question,\n",
    "                    \"id\": idx,\n",
    "                    \"answers\": answers,\n",
    "                }\n",
    "            )\n",
    "        )\n",
    "        f.write(\"\\n\")"
   ]
  },
  {
   "cell_type": "code",
   "execution_count": 764,
   "id": "4d13a6fe-9680-4aca-9f5e-1429164c137d",
   "metadata": {},
   "outputs": [
    {
     "name": "stderr",
     "output_type": "stream",
     "text": [
      "Using custom data configuration default-446e043134cde454\n"
     ]
    },
    {
     "name": "stdout",
     "output_type": "stream",
     "text": [
      "Downloading and preparing dataset json/default to /opt/ml/.cache/huggingface/datasets/json/default-446e043134cde454/0.0.0/e6070c77f18f01a5ad4551a8b7edfba20b8438b7cad4d94e6ad9378022ce4aab...\n"
     ]
    },
    {
     "name": "stderr",
     "output_type": "stream",
     "text": [
      "\n",
      "Downloading data files: 100%|██████████| 1/1 [00:00<00:00, 5262.61it/s]\n",
      "\n",
      "Extracting data files: 100%|██████████| 1/1 [00:00<00:00, 698.47it/s]\n",
      "\n",
      "Generating train split: 0 examples [00:00, ? examples/s]\u001b[A\n",
      "                                                        \u001b[A"
     ]
    },
    {
     "name": "stdout",
     "output_type": "stream",
     "text": [
      "Dataset json downloaded and prepared to /opt/ml/.cache/huggingface/datasets/json/default-446e043134cde454/0.0.0/e6070c77f18f01a5ad4551a8b7edfba20b8438b7cad4d94e6ad9378022ce4aab. Subsequent calls will reuse this data.\n"
     ]
    },
    {
     "name": "stderr",
     "output_type": "stream",
     "text": [
      "\n",
      "100%|██████████| 1/1 [00:00<00:00, 268.59it/s]\n"
     ]
    }
   ],
   "source": [
    "original_dss = load_dataset(\"json\", data_files=output_filename)"
   ]
  },
  {
   "cell_type": "code",
   "execution_count": 765,
   "id": "c1a005a2-c50f-4b14-970c-0e19de6c9ee5",
   "metadata": {},
   "outputs": [
    {
     "data": {
      "text/plain": [
       "DatasetDict({\n",
       "    train: Dataset({\n",
       "        features: ['title', 'context', 'question', 'id', 'answers'],\n",
       "        num_rows: 3952\n",
       "    })\n",
       "})"
      ]
     },
     "execution_count": 765,
     "metadata": {},
     "output_type": "execute_result"
    }
   ],
   "source": [
    "original_dss"
   ]
  },
  {
   "cell_type": "code",
   "execution_count": 766,
   "id": "80c921ae-ffd8-4421-8946-b289baf36279",
   "metadata": {},
   "outputs": [],
   "source": [
    "from datasets import concatenate_datasets, load_dataset\n",
    "#assert dss.type == original_dss..type\n",
    "total_dataset = concatenate_datasets([dss['train'], original_dss['train']])"
   ]
  },
  {
   "cell_type": "code",
   "execution_count": 769,
   "id": "9e2dca18-15ac-40bb-b702-e9b78b7bd0f4",
   "metadata": {},
   "outputs": [
    {
     "name": "stderr",
     "output_type": "stream",
     "text": [
      "\n",
      "Flattening the indices:   0%|          | 0/58 [00:00<?, ?ba/s]\u001b[A\n",
      "Flattening the indices:   3%|▎         | 2/58 [00:00<00:03, 16.56ba/s]\u001b[A\n",
      "Flattening the indices:   7%|▋         | 4/58 [00:00<00:03, 16.92ba/s]\u001b[A\n",
      "Flattening the indices:  10%|█         | 6/58 [00:00<00:02, 17.38ba/s]\u001b[A\n",
      "Flattening the indices:  14%|█▍        | 8/58 [00:00<00:02, 17.44ba/s]\u001b[A\n",
      "Flattening the indices:  17%|█▋        | 10/58 [00:00<00:02, 17.50ba/s]\u001b[A\n",
      "Flattening the indices:  21%|██        | 12/58 [00:00<00:02, 17.64ba/s]\u001b[A\n",
      "Flattening the indices:  24%|██▍       | 14/58 [00:00<00:02, 17.76ba/s]\u001b[A\n",
      "Flattening the indices:  28%|██▊       | 16/58 [00:00<00:02, 17.23ba/s]\u001b[A\n",
      "Flattening the indices:  31%|███       | 18/58 [00:01<00:02, 17.36ba/s]\u001b[A\n",
      "Flattening the indices:  34%|███▍      | 20/58 [00:01<00:02, 17.37ba/s]\u001b[A\n",
      "Flattening the indices:  38%|███▊      | 22/58 [00:01<00:02, 17.40ba/s]\u001b[A\n",
      "Flattening the indices:  41%|████▏     | 24/58 [00:01<00:01, 17.53ba/s]\u001b[A\n",
      "Flattening the indices:  45%|████▍     | 26/58 [00:01<00:01, 17.62ba/s]\u001b[A\n",
      "Flattening the indices:  48%|████▊     | 28/58 [00:01<00:01, 17.69ba/s]\u001b[A\n",
      "Flattening the indices:  52%|█████▏    | 30/58 [00:01<00:01, 17.83ba/s]\u001b[A\n",
      "Flattening the indices:  55%|█████▌    | 32/58 [00:01<00:01, 17.82ba/s]\u001b[A\n",
      "Flattening the indices:  59%|█████▊    | 34/58 [00:01<00:01, 17.80ba/s]\u001b[A\n",
      "Flattening the indices:  62%|██████▏   | 36/58 [00:02<00:01, 17.72ba/s]\u001b[A\n",
      "Flattening the indices:  66%|██████▌   | 38/58 [00:02<00:01, 17.79ba/s]\u001b[A\n",
      "Flattening the indices:  69%|██████▉   | 40/58 [00:02<00:01, 17.87ba/s]\u001b[A\n",
      "Flattening the indices:  72%|███████▏  | 42/58 [00:02<00:00, 17.96ba/s]\u001b[A\n",
      "Flattening the indices:  76%|███████▌  | 44/58 [00:02<00:00, 17.94ba/s]\u001b[A\n",
      "Flattening the indices:  79%|███████▉  | 46/58 [00:02<00:00, 17.90ba/s]\u001b[A\n",
      "Flattening the indices:  83%|████████▎ | 48/58 [00:02<00:00, 17.93ba/s]\u001b[A\n",
      "Flattening the indices:  86%|████████▌ | 50/58 [00:02<00:00, 17.94ba/s]\u001b[A\n",
      "Flattening the indices:  90%|████████▉ | 52/58 [00:02<00:00, 17.95ba/s]\u001b[A\n",
      "Flattening the indices:  93%|█████████▎| 54/58 [00:03<00:00, 17.81ba/s]\u001b[A\n",
      "Flattening the indices:  97%|█████████▋| 56/58 [00:03<00:00, 17.79ba/s]\u001b[A\n",
      "Flattening the indices: 100%|██████████| 58/58 [00:03<00:00, 17.65ba/s]\u001b[A\n",
      "\n",
      "Flattening the indices:   0%|          | 0/7 [00:00<?, ?ba/s]\u001b[A\n",
      "Flattening the indices:  29%|██▊       | 2/7 [00:00<00:00, 17.46ba/s]\u001b[A\n",
      "Flattening the indices:  57%|█████▋    | 4/7 [00:00<00:00, 17.60ba/s]\u001b[A\n",
      "Flattening the indices: 100%|██████████| 7/7 [00:00<00:00, 19.07ba/s]\u001b[A\n"
     ]
    }
   ],
   "source": [
    "train_dataset, validation_dataset= total_dataset.train_test_split(test_size=0.1).values()\n",
    "dataset = DatasetDict({'train': train_dataset, 'validation': validation_dataset})\n",
    "dataset.save_to_disk(\"origin_added_korquad\")"
   ]
  },
  {
   "cell_type": "code",
   "execution_count": 704,
   "id": "c42b6269-5345-4dfa-ac5b-1fa588c1864d",
   "metadata": {},
   "outputs": [
    {
     "data": {
      "text/html": [
       "<div>\n",
       "<style scoped>\n",
       "    .dataframe tbody tr th:only-of-type {\n",
       "        vertical-align: middle;\n",
       "    }\n",
       "\n",
       "    .dataframe tbody tr th {\n",
       "        vertical-align: top;\n",
       "    }\n",
       "\n",
       "    .dataframe thead th {\n",
       "        text-align: right;\n",
       "    }\n",
       "</style>\n",
       "<table border=\"1\" class=\"dataframe\">\n",
       "  <thead>\n",
       "    <tr style=\"text-align: right;\">\n",
       "      <th></th>\n",
       "      <th>train</th>\n",
       "    </tr>\n",
       "  </thead>\n",
       "  <tbody>\n",
       "    <tr>\n",
       "      <th>0</th>\n",
       "      <td>{'title': '미국 상원', 'context': '미국 상의원 또는 미국 상원...</td>\n",
       "    </tr>\n",
       "    <tr>\n",
       "      <th>1</th>\n",
       "      <td>{'title': '인사조직관리', 'context': ''근대적 경영학' 또는 '...</td>\n",
       "    </tr>\n",
       "    <tr>\n",
       "      <th>2</th>\n",
       "      <td>{'title': '강희제', 'context': '강희제는 강화된 황권으로 거의 ...</td>\n",
       "    </tr>\n",
       "    <tr>\n",
       "      <th>3</th>\n",
       "      <td>{'title': '금동삼존불감', 'context': '불상을 모시기 위해 나무나...</td>\n",
       "    </tr>\n",
       "    <tr>\n",
       "      <th>4</th>\n",
       "      <td>{'title': '계사명 사리구', 'context': '동아대학교박물관에서 소장...</td>\n",
       "    </tr>\n",
       "    <tr>\n",
       "      <th>...</th>\n",
       "      <td>...</td>\n",
       "    </tr>\n",
       "    <tr>\n",
       "      <th>3947</th>\n",
       "      <td>{'title': '이오 (위성)', 'context': '이오의 산\\n이오의 산 ...</td>\n",
       "    </tr>\n",
       "    <tr>\n",
       "      <th>3948</th>\n",
       "      <td>{'title': '내니 다이어리', 'context': '애니의 고군분투 뉴욕 입...</td>\n",
       "    </tr>\n",
       "    <tr>\n",
       "      <th>3949</th>\n",
       "      <td>{'title': '빈 필하모니 관현악단', 'context': '1842년에 작곡...</td>\n",
       "    </tr>\n",
       "    <tr>\n",
       "      <th>3950</th>\n",
       "      <td>{'title': '드래곤', 'context': '원어는 고대 그리스어까지 거슬러...</td>\n",
       "    </tr>\n",
       "    <tr>\n",
       "      <th>3951</th>\n",
       "      <td>{'title': '2011년 함부르크 주의회 선거', 'context': '200...</td>\n",
       "    </tr>\n",
       "  </tbody>\n",
       "</table>\n",
       "<p>3952 rows × 1 columns</p>\n",
       "</div>"
      ],
      "text/plain": [
       "                                                  train\n",
       "0     {'title': '미국 상원', 'context': '미국 상의원 또는 미국 상원...\n",
       "1     {'title': '인사조직관리', 'context': ''근대적 경영학' 또는 '...\n",
       "2     {'title': '강희제', 'context': '강희제는 강화된 황권으로 거의 ...\n",
       "3     {'title': '금동삼존불감', 'context': '불상을 모시기 위해 나무나...\n",
       "4     {'title': '계사명 사리구', 'context': '동아대학교박물관에서 소장...\n",
       "...                                                 ...\n",
       "3947  {'title': '이오 (위성)', 'context': '이오의 산\\n이오의 산 ...\n",
       "3948  {'title': '내니 다이어리', 'context': '애니의 고군분투 뉴욕 입...\n",
       "3949  {'title': '빈 필하모니 관현악단', 'context': '1842년에 작곡...\n",
       "3950  {'title': '드래곤', 'context': '원어는 고대 그리스어까지 거슬러...\n",
       "3951  {'title': '2011년 함부르크 주의회 선거', 'context': '200...\n",
       "\n",
       "[3952 rows x 1 columns]"
      ]
     },
     "execution_count": 704,
     "metadata": {},
     "output_type": "execute_result"
    }
   ],
   "source": [
    "ori_df = pd.DataFrame(original_dss)\n",
    "ori_df"
   ]
  },
  {
   "cell_type": "code",
   "execution_count": 705,
   "id": "3d26ab6d-2e2a-48d2-8fbd-1e6e7ee5d2e1",
   "metadata": {},
   "outputs": [
    {
     "data": {
      "text/html": [
       "<div>\n",
       "<style scoped>\n",
       "    .dataframe tbody tr th:only-of-type {\n",
       "        vertical-align: middle;\n",
       "    }\n",
       "\n",
       "    .dataframe tbody tr th {\n",
       "        vertical-align: top;\n",
       "    }\n",
       "\n",
       "    .dataframe thead th {\n",
       "        text-align: right;\n",
       "    }\n",
       "</style>\n",
       "<table border=\"1\" class=\"dataframe\">\n",
       "  <thead>\n",
       "    <tr style=\"text-align: right;\">\n",
       "      <th></th>\n",
       "      <th>train</th>\n",
       "    </tr>\n",
       "  </thead>\n",
       "  <tbody>\n",
       "    <tr>\n",
       "      <th>0</th>\n",
       "      <td>{'title': '미국 상원', 'context': '미국 상의원 또는 미국 상원...</td>\n",
       "    </tr>\n",
       "    <tr>\n",
       "      <th>1</th>\n",
       "      <td>{'title': '인사조직관리', 'context': ''근대적 경영학' 또는 '...</td>\n",
       "    </tr>\n",
       "    <tr>\n",
       "      <th>2</th>\n",
       "      <td>{'title': '강희제', 'context': '강희제는 강화된 황권으로 거의 ...</td>\n",
       "    </tr>\n",
       "    <tr>\n",
       "      <th>3</th>\n",
       "      <td>{'title': '금동삼존불감', 'context': '불상을 모시기 위해 나무나...</td>\n",
       "    </tr>\n",
       "    <tr>\n",
       "      <th>4</th>\n",
       "      <td>{'title': '계사명 사리구', 'context': '동아대학교박물관에서 소장...</td>\n",
       "    </tr>\n",
       "    <tr>\n",
       "      <th>...</th>\n",
       "      <td>...</td>\n",
       "    </tr>\n",
       "    <tr>\n",
       "      <th>60402</th>\n",
       "      <td>{'title': '뉴델리_메탈로-베타락타마제', 'context': '유전자의 이...</td>\n",
       "    </tr>\n",
       "    <tr>\n",
       "      <th>60403</th>\n",
       "      <td>{'title': '뉴델리_메탈로-베타락타마제', 'context': '2010년 ...</td>\n",
       "    </tr>\n",
       "    <tr>\n",
       "      <th>60404</th>\n",
       "      <td>{'title': '뉴델리_메탈로-베타락타마제', 'context': '2010년 ...</td>\n",
       "    </tr>\n",
       "    <tr>\n",
       "      <th>60405</th>\n",
       "      <td>{'title': '뉴델리_메탈로-베타락타마제', 'context': '2010년 ...</td>\n",
       "    </tr>\n",
       "    <tr>\n",
       "      <th>60406</th>\n",
       "      <td>{'title': '뉴델리_메탈로-베타락타마제', 'context': '2010년 ...</td>\n",
       "    </tr>\n",
       "  </tbody>\n",
       "</table>\n",
       "<p>64359 rows × 1 columns</p>\n",
       "</div>"
      ],
      "text/plain": [
       "                                                   train\n",
       "0      {'title': '미국 상원', 'context': '미국 상의원 또는 미국 상원...\n",
       "1      {'title': '인사조직관리', 'context': ''근대적 경영학' 또는 '...\n",
       "2      {'title': '강희제', 'context': '강희제는 강화된 황권으로 거의 ...\n",
       "3      {'title': '금동삼존불감', 'context': '불상을 모시기 위해 나무나...\n",
       "4      {'title': '계사명 사리구', 'context': '동아대학교박물관에서 소장...\n",
       "...                                                  ...\n",
       "60402  {'title': '뉴델리_메탈로-베타락타마제', 'context': '유전자의 이...\n",
       "60403  {'title': '뉴델리_메탈로-베타락타마제', 'context': '2010년 ...\n",
       "60404  {'title': '뉴델리_메탈로-베타락타마제', 'context': '2010년 ...\n",
       "60405  {'title': '뉴델리_메탈로-베타락타마제', 'context': '2010년 ...\n",
       "60406  {'title': '뉴델리_메탈로-베타락타마제', 'context': '2010년 ...\n",
       "\n",
       "[64359 rows x 1 columns]"
      ]
     },
     "execution_count": 705,
     "metadata": {},
     "output_type": "execute_result"
    }
   ],
   "source": [
    "nf = pd.concat([ori_df, df_added], ignore_index=True)\n",
    "nf"
   ]
  },
  {
   "cell_type": "code",
   "execution_count": 706,
   "id": "2d933e3e-048d-4c07-b180-29349869a1dd",
   "metadata": {},
   "outputs": [],
   "source": [
    "nf.to_json('data_origin_added_korquad.json', orient='records')"
   ]
  },
  {
   "cell_type": "code",
   "execution_count": 707,
   "id": "0ba08bd5-4185-454a-bffd-cd2c5b52247d",
   "metadata": {},
   "outputs": [
    {
     "name": "stderr",
     "output_type": "stream",
     "text": [
      "Using custom data configuration default-38f7ca38d25beb30\n"
     ]
    },
    {
     "name": "stdout",
     "output_type": "stream",
     "text": [
      "Downloading and preparing dataset json/default to /opt/ml/.cache/huggingface/datasets/json/default-38f7ca38d25beb30/0.0.0/e6070c77f18f01a5ad4551a8b7edfba20b8438b7cad4d94e6ad9378022ce4aab...\n"
     ]
    },
    {
     "name": "stderr",
     "output_type": "stream",
     "text": [
      "\n",
      "Downloading data files: 100%|██████████| 1/1 [00:00<00:00, 5223.29it/s]\n",
      "\n",
      "Extracting data files: 100%|██████████| 1/1 [00:00<00:00, 635.02it/s]\n",
      "\n",
      "Generating train split: 0 examples [00:00, ? examples/s]\u001b[A\n",
      "Generating train split: 64359 examples [00:07, 8177.57 examples/s]\u001b[A\n",
      "                                                                  \u001b[A"
     ]
    },
    {
     "name": "stdout",
     "output_type": "stream",
     "text": [
      "Dataset json downloaded and prepared to /opt/ml/.cache/huggingface/datasets/json/default-38f7ca38d25beb30/0.0.0/e6070c77f18f01a5ad4551a8b7edfba20b8438b7cad4d94e6ad9378022ce4aab. Subsequent calls will reuse this data.\n"
     ]
    },
    {
     "name": "stderr",
     "output_type": "stream",
     "text": [
      "\n",
      "100%|██████████| 1/1 [00:00<00:00, 259.20it/s]\n"
     ]
    }
   ],
   "source": [
    "ds_ori_kor = load_dataset(\"json\", data_files=\"data_origin_added_korquad.json\")\n",
    "\n",
    "#test_dataset.save_to_disk(\"korquad\")"
   ]
  },
  {
   "cell_type": "code",
   "execution_count": 708,
   "id": "f1b3e5e3-a547-4214-9892-c76a21a5156e",
   "metadata": {},
   "outputs": [
    {
     "data": {
      "text/plain": [
       "DatasetDict({\n",
       "    train: Dataset({\n",
       "        features: ['train'],\n",
       "        num_rows: 64359\n",
       "    })\n",
       "})"
      ]
     },
     "execution_count": 708,
     "metadata": {},
     "output_type": "execute_result"
    }
   ],
   "source": [
    "train_dataset, validation_dataset= ds_ori_kor['train'].train_test_split(test_size=0.1).values()\n",
    "ds_ori_kor"
   ]
  },
  {
   "cell_type": "code",
   "execution_count": 577,
   "id": "b640be70-1da6-4ac2-ae54-75e5b3d93912",
   "metadata": {},
   "outputs": [
    {
     "ename": "AttributeError",
     "evalue": "'list' object has no attribute 'column_names'",
     "output_type": "error",
     "traceback": [
      "\u001b[0;31m---------------------------------------------------------------------------\u001b[0m",
      "\u001b[0;31mAttributeError\u001b[0m                            Traceback (most recent call last)",
      "Cell \u001b[0;32mIn[577], line 1\u001b[0m\n\u001b[0;32m----> 1\u001b[0m \u001b[38;5;28mprint\u001b[39m(\u001b[43mtrain_dataset\u001b[49m\u001b[43m[\u001b[49m\u001b[38;5;124;43m'\u001b[39;49m\u001b[38;5;124;43mtrain\u001b[39;49m\u001b[38;5;124;43m'\u001b[39;49m\u001b[43m]\u001b[49m\u001b[38;5;241;43m.\u001b[39;49m\u001b[43mcolumn_names\u001b[49m)\u001b[38;5;66;03m#.column_names)#, \u001b[39;00m\n\u001b[1;32m      2\u001b[0m validation_dataset\n",
      "\u001b[0;31mAttributeError\u001b[0m: 'list' object has no attribute 'column_names'"
     ]
    }
   ],
   "source": [
    "print(train_dataset['train'].column_names)#.column_names)#, \n",
    "validation_dataset"
   ]
  },
  {
   "cell_type": "code",
   "execution_count": 536,
   "id": "69dd9a97-e85f-4454-bc23-6677aa0db9e7",
   "metadata": {},
   "outputs": [
    {
     "name": "stderr",
     "output_type": "stream",
     "text": [
      "Flattening the indices: 100%|██████████| 58/58 [00:03<00:00, 16.31ba/s]\n",
      "Flattening the indices: 100%|██████████| 7/7 [00:00<00:00, 17.11ba/s]\n"
     ]
    }
   ],
   "source": [
    "dataset = DatasetDict({'train': train_dataset, 'validation': validation_dataset})\n",
    "dataset.save_to_disk(\"origin_added_korquad\")"
   ]
  },
  {
   "cell_type": "code",
   "execution_count": null,
   "id": "0587d92c-48f4-45e2-abd3-a9eefab79424",
   "metadata": {},
   "outputs": [],
   "source": []
  }
 ],
 "metadata": {
  "kernelspec": {
   "display_name": "Python 3 (ipykernel)",
   "language": "python",
   "name": "python3"
  },
  "language_info": {
   "codemirror_mode": {
    "name": "ipython",
    "version": 3
   },
   "file_extension": ".py",
   "mimetype": "text/x-python",
   "name": "python",
   "nbconvert_exporter": "python",
   "pygments_lexer": "ipython3",
   "version": "3.8.5"
  }
 },
 "nbformat": 4,
 "nbformat_minor": 5
}
